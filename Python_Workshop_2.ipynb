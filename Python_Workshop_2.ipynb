{
  "nbformat": 4,
  "nbformat_minor": 0,
  "metadata": {
    "colab": {
      "name": "Python Workshop 2.ipynb",
      "provenance": [],
      "collapsed_sections": []
    },
    "kernelspec": {
      "name": "python3",
      "display_name": "Python 3"
    },
    "language_info": {
      "name": "python"
    }
  },
  "cells": [
    {
      "cell_type": "markdown",
      "metadata": {
        "id": "T6msi0ZtSNvv"
      },
      "source": [
        "# Classwork"
      ]
    },
    {
      "cell_type": "code",
      "metadata": {
        "id": "pp-QHuxfHoqB"
      },
      "source": [
        "def diferenta(num1, num2, num3):\n",
        "    return num1 - num2 - num3"
      ],
      "execution_count": null,
      "outputs": []
    },
    {
      "cell_type": "code",
      "metadata": {
        "colab": {
          "base_uri": "https://localhost:8080/"
        },
        "id": "3z8ZyPzQIhqu",
        "outputId": "ca3fabee-0e09-4d9e-f334-22a0459506c3"
      },
      "source": [
        "print(diferenta(10,8,2))"
      ],
      "execution_count": null,
      "outputs": [
        {
          "output_type": "stream",
          "text": [
            "0\n"
          ],
          "name": "stdout"
        }
      ]
    },
    {
      "cell_type": "code",
      "metadata": {
        "id": "_S3EpzCDI1RJ"
      },
      "source": [
        "class Elev:\n",
        "\n",
        "  def __init__(self, pren = 'Unknown', num = 'Unknown', clasa = None, notele = None):\n",
        "      self.prenume = pren\n",
        "      self.nume = num\n",
        "      self.clasa = clasa\n",
        "      self.note = notele\n",
        "\n",
        "  def nota_medie(self):\n",
        "      suma = 0\n",
        "      for i in self.note:\n",
        "        suma += i\n",
        "      nota_medie = suma / len(self.note)\n",
        "      return nota_medie"
      ],
      "execution_count": null,
      "outputs": []
    },
    {
      "cell_type": "code",
      "metadata": {
        "id": "Auj0TFkjK-8D"
      },
      "source": [
        "note_mihai = [10,8,7]\n",
        "\n",
        "mihai = Elev('Mihai', 'Morar', '10B', note_mihai)"
      ],
      "execution_count": null,
      "outputs": []
    },
    {
      "cell_type": "code",
      "metadata": {
        "colab": {
          "base_uri": "https://localhost:8080/"
        },
        "id": "XtMkMgrMPM_I",
        "outputId": "c9c84809-5db4-4c73-fc2e-5b5f06f08f77"
      },
      "source": [
        "elena = Elev()\n",
        "print(elena.prenume)"
      ],
      "execution_count": null,
      "outputs": [
        {
          "output_type": "stream",
          "text": [
            "Unknown\n"
          ],
          "name": "stdout"
        }
      ]
    },
    {
      "cell_type": "code",
      "metadata": {
        "colab": {
          "base_uri": "https://localhost:8080/"
        },
        "id": "19qcp9yDMtns",
        "outputId": "32688ae0-57d9-4962-818a-34bcedd9b0c3"
      },
      "source": [
        "print(mihai.nota_medie())"
      ],
      "execution_count": null,
      "outputs": [
        {
          "output_type": "stream",
          "text": [
            "8.333333333333334\n"
          ],
          "name": "stdout"
        }
      ]
    },
    {
      "cell_type": "code",
      "metadata": {
        "id": "2VgUSUybO5KM"
      },
      "source": [
        "class Profesor:\n",
        "  def nota_medie(self):\n",
        "      suma = 0\n",
        "      for i in self.note:\n",
        "        suma += i\n",
        "      nota_medie = suma / len(self.note)\n",
        "      return nota_medie"
      ],
      "execution_count": null,
      "outputs": []
    },
    {
      "cell_type": "code",
      "metadata": {
        "colab": {
          "base_uri": "https://localhost:8080/",
          "height": 163
        },
        "id": "0uVkEZW3PCPn",
        "outputId": "1cdc2c3f-9f5e-41a6-b154-60f803082ff3"
      },
      "source": [
        "profesor = Profesor('RRR')"
      ],
      "execution_count": null,
      "outputs": [
        {
          "output_type": "error",
          "ename": "TypeError",
          "evalue": "ignored",
          "traceback": [
            "\u001b[0;31m---------------------------------------------------------------------------\u001b[0m",
            "\u001b[0;31mTypeError\u001b[0m                                 Traceback (most recent call last)",
            "\u001b[0;32m<ipython-input-49-7a0f1042c0cc>\u001b[0m in \u001b[0;36m<module>\u001b[0;34m()\u001b[0m\n\u001b[0;32m----> 1\u001b[0;31m \u001b[0mprofesor\u001b[0m \u001b[0;34m=\u001b[0m \u001b[0mProfesor\u001b[0m\u001b[0;34m(\u001b[0m\u001b[0;34m'RRR'\u001b[0m\u001b[0;34m)\u001b[0m\u001b[0;34m\u001b[0m\u001b[0;34m\u001b[0m\u001b[0m\n\u001b[0m",
            "\u001b[0;31mTypeError\u001b[0m: Profesor() takes no arguments"
          ]
        }
      ]
    },
    {
      "cell_type": "code",
      "metadata": {
        "colab": {
          "base_uri": "https://localhost:8080/"
        },
        "id": "37lLQiacLZ7m",
        "outputId": "6950a842-7963-4fd5-a391-13b6caecd96c"
      },
      "source": [
        "print(mihai.prenume)"
      ],
      "execution_count": null,
      "outputs": [
        {
          "output_type": "stream",
          "text": [
            "Mihai\n"
          ],
          "name": "stdout"
        }
      ]
    },
    {
      "cell_type": "code",
      "metadata": {
        "colab": {
          "base_uri": "https://localhost:8080/"
        },
        "id": "qrh0caEILdum",
        "outputId": "2a6537d0-7cb2-4335-9d49-3a8b88475fb7"
      },
      "source": [
        "print(mihai.note)"
      ],
      "execution_count": null,
      "outputs": [
        {
          "output_type": "stream",
          "text": [
            "[10, 8, 7]\n"
          ],
          "name": "stdout"
        }
      ]
    },
    {
      "cell_type": "code",
      "metadata": {
        "colab": {
          "base_uri": "https://localhost:8080/"
        },
        "id": "6bH01HZALgpG",
        "outputId": "2cc7b39d-9cc7-4c94-bca8-45bc891f8436"
      },
      "source": [
        "suma = 0\n",
        "for i in note_mihai:\n",
        "  suma += i\n",
        "nota_medie = suma / len(note_mihai)\n",
        "\n",
        "print(nota_medie)"
      ],
      "execution_count": null,
      "outputs": [
        {
          "output_type": "stream",
          "text": [
            "8.333333333333334\n"
          ],
          "name": "stdout"
        }
      ]
    },
    {
      "cell_type": "code",
      "metadata": {
        "id": "bgpig-ZsLwl1"
      },
      "source": [
        "def nota_medie(note):\n",
        "  suma = 0\n",
        "  for i in note:\n",
        "    suma += i\n",
        "  nota_medie = suma / len(note)\n",
        "  return nota_medie"
      ],
      "execution_count": null,
      "outputs": []
    },
    {
      "cell_type": "code",
      "metadata": {
        "colab": {
          "base_uri": "https://localhost:8080/"
        },
        "id": "c5LpJK60MEpH",
        "outputId": "a9f0ca91-93c6-4f22-abe3-205dcddafe23"
      },
      "source": [
        "print(nota_medie(note_mihai))"
      ],
      "execution_count": null,
      "outputs": [
        {
          "output_type": "stream",
          "text": [
            "8.333333333333334\n"
          ],
          "name": "stdout"
        }
      ]
    },
    {
      "cell_type": "code",
      "metadata": {
        "id": "_h3ozCbGTbff"
      },
      "source": [
        "class Elev2:\n",
        "\n",
        "  def __init__(self, pren = 'Unknown', num = 'Unknown', clasa = None, notele = None):\n",
        "      self.__prenume = pren\n",
        "      self.nume = num\n",
        "      self.clasa = clasa\n",
        "      self.__note = notele\n",
        "\n",
        "  def nota_medie(self):\n",
        "      suma = 0\n",
        "      for i in self.__note:\n",
        "        suma += i\n",
        "      nota_medie = suma / len(self.__note)\n",
        "      return nota_medie\n"
      ],
      "execution_count": null,
      "outputs": []
    },
    {
      "cell_type": "code",
      "metadata": {
        "id": "7eoI1qH9Tymu"
      },
      "source": [
        "note_mihai = [10,8,7]\n",
        "\n",
        "mihai2 = Elev2('Mihai', 'Morar', '10B', note_mihai)"
      ],
      "execution_count": null,
      "outputs": []
    },
    {
      "cell_type": "code",
      "metadata": {
        "colab": {
          "base_uri": "https://localhost:8080/",
          "height": 197
        },
        "id": "2N_ofFfeTsye",
        "outputId": "cfa074d5-c71c-4127-dfe6-4aa48a95db63"
      },
      "source": [
        "print(mihai2.nota_medie())\n",
        "print(mihai2.__note)"
      ],
      "execution_count": null,
      "outputs": [
        {
          "output_type": "stream",
          "text": [
            "8.333333333333334\n"
          ],
          "name": "stdout"
        },
        {
          "output_type": "error",
          "ename": "AttributeError",
          "evalue": "ignored",
          "traceback": [
            "\u001b[0;31m---------------------------------------------------------------------------\u001b[0m",
            "\u001b[0;31mAttributeError\u001b[0m                            Traceback (most recent call last)",
            "\u001b[0;32m<ipython-input-59-a365c17e7b72>\u001b[0m in \u001b[0;36m<module>\u001b[0;34m()\u001b[0m\n\u001b[1;32m      1\u001b[0m \u001b[0mprint\u001b[0m\u001b[0;34m(\u001b[0m\u001b[0mmihai2\u001b[0m\u001b[0;34m.\u001b[0m\u001b[0mnota_medie\u001b[0m\u001b[0;34m(\u001b[0m\u001b[0;34m)\u001b[0m\u001b[0;34m)\u001b[0m\u001b[0;34m\u001b[0m\u001b[0;34m\u001b[0m\u001b[0m\n\u001b[0;32m----> 2\u001b[0;31m \u001b[0mprint\u001b[0m\u001b[0;34m(\u001b[0m\u001b[0mmihai2\u001b[0m\u001b[0;34m.\u001b[0m\u001b[0m__note\u001b[0m\u001b[0;34m)\u001b[0m\u001b[0;34m\u001b[0m\u001b[0;34m\u001b[0m\u001b[0m\n\u001b[0m",
            "\u001b[0;31mAttributeError\u001b[0m: 'Elev2' object has no attribute '__note'"
          ]
        }
      ]
    },
    {
      "cell_type": "code",
      "metadata": {
        "id": "myMIVYrGUUKO"
      },
      "source": [
        "class Human:\n",
        "  def __init__(self, nume, prenume):\n",
        "    self.nume = nume\n",
        "    self.prenume = prenume\n",
        "\n",
        "  def sleeping(self):\n",
        "    print('Eu dorm')"
      ],
      "execution_count": null,
      "outputs": []
    },
    {
      "cell_type": "code",
      "metadata": {
        "id": "m94KMYdtWK1a"
      },
      "source": [
        "class Elev(Human):\n",
        "\n",
        "  def __init__(self, pren = 'Unknown', num = 'Unknown', clasa = None, notele = None):\n",
        "      super().__init__(pren, num)\n",
        "      self.clasa = clasa\n",
        "      self.note = notele\n",
        "\n",
        "  def nota_medie(self):\n",
        "      suma = 0\n",
        "      for i in self.note:\n",
        "        suma += i\n",
        "      nota_medie = suma / len(self.note)\n",
        "      return nota_medie"
      ],
      "execution_count": null,
      "outputs": []
    },
    {
      "cell_type": "code",
      "metadata": {
        "colab": {
          "base_uri": "https://localhost:8080/"
        },
        "id": "1_jN20vnWpXy",
        "outputId": "9bf097bf-6ac3-4cc8-ae65-70e7b8404576"
      },
      "source": [
        "mihai = Elev('Mihai', 'Morar', '10B', note_mihai)\n",
        "mihai.sleeping()"
      ],
      "execution_count": null,
      "outputs": [
        {
          "output_type": "stream",
          "text": [
            "Eu dorm\n"
          ],
          "name": "stdout"
        }
      ]
    },
    {
      "cell_type": "code",
      "metadata": {
        "colab": {
          "base_uri": "https://localhost:8080/"
        },
        "id": "J1fAZfjjkvSm",
        "outputId": "c0955760-3603-4025-84bf-4b8c939d4793"
      },
      "source": [
        "class Human:\n",
        "\n",
        "  def __init__(self, pren, nume_elev):\n",
        "    self.prenume = pren\n",
        "    self.nume = nume_elev\n",
        "\n",
        "  def sleeping(self):\n",
        "    print('I\\'m sleeping')\n",
        "  \n",
        "class Elev(Human):\n",
        "\n",
        "  def __init__(self, pren, nume_elev, clasa, notele):\n",
        "    super().__init__(pren, nume_elev)\n",
        "    self.clasa = clasa\n",
        "    self.note = notele\n",
        "  def sleeping(self):\n",
        "    print('I\\'m not seleeping because I am studying')\n",
        "\n",
        "human = Human('Ion', 'Mosneag')\n",
        "mihai = Elev('Mihai', 'Morari', '12C', [3,5,6])\n",
        "human.sleeping()\n",
        "mihai.sleeping()"
      ],
      "execution_count": null,
      "outputs": [
        {
          "output_type": "stream",
          "text": [
            "I'm sleeping\n",
            "I'm not seleeping because I am studying\n"
          ],
          "name": "stdout"
        }
      ]
    },
    {
      "cell_type": "code",
      "metadata": {
        "colab": {
          "base_uri": "https://localhost:8080/"
        },
        "id": "DS3x-sw9l70W",
        "outputId": "c8bb8909-1865-4309-bbb0-850b25db94f2"
      },
      "source": [
        "class Cat:\n",
        "  def __init__(self, name, age):\n",
        "    self.name = name\n",
        "    self.age = age\n",
        "  def info(self):\n",
        "    print(f'I am a cat. My name is {self.name}. I am {self.age} years old.')\n",
        "  def make_sound(self):\n",
        "    print('Meow')\n",
        "\n",
        "class Dog:\n",
        "  def __init__(self, name, age):\n",
        "    self.name = name\n",
        "    self.age = age\n",
        "  def info(self):\n",
        "    print(f'I am a dog. My name is {self.name}. I am {self.age} years old.')\n",
        "  def make_sound(self):\n",
        "    print('Bark')\n",
        "\n",
        "cat1 = Cat('Kitty', 2.5)\n",
        "dog1 = Dog('Fluffy', 4)\n",
        "\n",
        "for animal in (cat1, dog1):\n",
        "  animal.make_sound()\n",
        "  animal.info()\n"
      ],
      "execution_count": null,
      "outputs": [
        {
          "output_type": "stream",
          "text": [
            "Meow\n",
            "I am a cat. My name is Kitty. I am 2.5 years old.\n",
            "Bark\n",
            "I am a dog. My name is Fluffy. I am 4 years old.\n"
          ],
          "name": "stdout"
        }
      ]
    },
    {
      "cell_type": "markdown",
      "metadata": {
        "id": "yKb-XVqcnCY6"
      },
      "source": [
        "# Homework"
      ]
    },
    {
      "cell_type": "code",
      "metadata": {
        "id": "mqnMUuWknSDp"
      },
      "source": [
        "from datetime import date\n",
        "class Om:\n",
        "  def __init__(self, nume, prenume, anul_nasterii):\n",
        "    self.nume = nume\n",
        "    self.prenume = prenume\n",
        "    self.anulNasterii = anul_nasterii\n",
        "  def calculeaza_varsta(self):\n",
        "    today = date.today()\n",
        "    return today.year - int(self.anulNasterii)\n"
      ],
      "execution_count": 12,
      "outputs": []
    },
    {
      "cell_type": "code",
      "metadata": {
        "colab": {
          "base_uri": "https://localhost:8080/"
        },
        "id": "WP56IQvopJMa",
        "outputId": "387fa14b-b934-4ac7-fc99-6c699d5a7f63"
      },
      "source": [
        "mihai = Om('Cimpoi', 'Mihai', 2004)\n",
        "mihai.calculeaza_varsta()"
      ],
      "execution_count": 13,
      "outputs": [
        {
          "output_type": "execute_result",
          "data": {
            "text/plain": [
              "17"
            ]
          },
          "metadata": {
            "tags": []
          },
          "execution_count": 13
        }
      ]
    },
    {
      "cell_type": "code",
      "metadata": {
        "id": "kN6FxxDJBVyM"
      },
      "source": [
        "class Elevul(Om):\n",
        "  def __init__(self, nume, prenume, anul_nasterii, clasa, nota_medie):\n",
        "    super().__init__(nume, prenume, anul_nasterii)\n",
        "    self.Clasa = clasa\n",
        "    self.notaMedie = nota_medie\n",
        "  def este_eminent(self):\n",
        "    if self.notaMedie > 9:\n",
        "      return 'este eminent'\n",
        "    else:\n",
        "      return 'nu este eminent' "
      ],
      "execution_count": 17,
      "outputs": []
    },
    {
      "cell_type": "code",
      "metadata": {
        "colab": {
          "base_uri": "https://localhost:8080/"
        },
        "id": "1WCZqf4aDy1V",
        "outputId": "a787100b-7ac0-4d99-8d23-1b7d8aff57ef"
      },
      "source": [
        "mihai = Elevul('Cimpoi', 'Mihai', 2004, 10, 8)\n",
        "print(mihai.este_eminent())\n",
        "print(mihai.calculeaza_varsta())"
      ],
      "execution_count": 23,
      "outputs": [
        {
          "output_type": "stream",
          "text": [
            "nu este eminent\n",
            "17\n"
          ],
          "name": "stdout"
        }
      ]
    },
    {
      "cell_type": "code",
      "metadata": {
        "id": "5l6m7KE5Fjih"
      },
      "source": [
        "nr = 0\n",
        "class Profesor(Om):\n",
        "  def __init__(self, nume, prenume, anul_nasterii, discipline, salariu):\n",
        "    super().__init__(nume, prenume, anul_nasterii)\n",
        "    self.Discipline = discipline\n",
        "    self.Salariu = salariu\n",
        "  def salariuAnual(self):\n",
        "    return int(self.Salariu) * 12\n",
        "  def nr_discipline(self):\n",
        "    for i in self.Discipline:\n",
        "      global nr\n",
        "      nr += 1\n",
        "    return nr\n"
      ],
      "execution_count": 38,
      "outputs": []
    },
    {
      "cell_type": "code",
      "metadata": {
        "colab": {
          "base_uri": "https://localhost:8080/"
        },
        "id": "SmQwr6TLIeeZ",
        "outputId": "2f0445e1-6cca-4e04-9626-7d42ad37924a"
      },
      "source": [
        "obiecte = ['romana', 'literatura universala']\n",
        "profesor = Profesor('Ana', 'Marian', 2000, obiecte, 4000)\n",
        "print(profesor.salariuAnual())\n",
        "print(profesor.nr_discipline())\n",
        "print(profesor.calculeaza_varsta())"
      ],
      "execution_count": 39,
      "outputs": [
        {
          "output_type": "stream",
          "text": [
            "48000\n",
            "2\n",
            "21\n"
          ],
          "name": "stdout"
        }
      ]
    }
  ]
}