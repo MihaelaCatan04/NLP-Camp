{
  "nbformat": 4,
  "nbformat_minor": 0,
  "metadata": {
    "colab": {
      "name": "Python Workshop 1.ipynb",
      "provenance": [],
      "collapsed_sections": []
    },
    "kernelspec": {
      "name": "python3",
      "display_name": "Python 3"
    },
    "language_info": {
      "name": "python"
    }
  },
  "cells": [
    {
      "cell_type": "markdown",
      "metadata": {
        "id": "Ez33oqqoNCs9"
      },
      "source": [
        "# Classwork"
      ]
    },
    {
      "cell_type": "code",
      "metadata": {
        "colab": {
          "base_uri": "https://localhost:8080/"
        },
        "id": "n4TMfoJrLOEb",
        "outputId": "ed3eb2df-0835-45cd-f1bf-deb8acaffb67"
      },
      "source": [
        "a = 5\n",
        "b = 7\n",
        "c = 'sunt prezent'\n",
        "print(c)\n",
        "print(a ** b)\n",
        "print(a / b)\n",
        "print(a // b)"
      ],
      "execution_count": null,
      "outputs": [
        {
          "output_type": "stream",
          "text": [
            "sunt prezent\n",
            "78125\n",
            "0.7142857142857143\n",
            "0\n"
          ],
          "name": "stdout"
        }
      ]
    },
    {
      "cell_type": "code",
      "metadata": {
        "colab": {
          "base_uri": "https://localhost:8080/"
        },
        "id": "18wd6ljFLmUM",
        "outputId": "34648d66-6c7d-4ac1-caa7-eae0b8c8c9f5"
      },
      "source": [
        "c = 'sunt prezent'\n",
        "d = 'la lectie'\n",
        "print(c + ' ' + d)"
      ],
      "execution_count": null,
      "outputs": [
        {
          "output_type": "stream",
          "text": [
            "sunt prezent la lectie\n"
          ],
          "name": "stdout"
        }
      ]
    },
    {
      "cell_type": "code",
      "metadata": {
        "colab": {
          "base_uri": "https://localhost:8080/"
        },
        "id": "YZT7wTKXLodV",
        "outputId": "ca557acb-01ce-4ce7-9c6f-8a4a3f8a9a4e"
      },
      "source": [
        "f = 5.6\n",
        "print(int(f))"
      ],
      "execution_count": null,
      "outputs": [
        {
          "output_type": "stream",
          "text": [
            "5\n"
          ],
          "name": "stdout"
        }
      ]
    },
    {
      "cell_type": "code",
      "metadata": {
        "colab": {
          "base_uri": "https://localhost:8080/"
        },
        "id": "0d1nvK8RLsCG",
        "outputId": "56518a1a-9afa-4c78-c5d4-992c454b5b47"
      },
      "source": [
        "c ='5'\n",
        "int(c)"
      ],
      "execution_count": null,
      "outputs": [
        {
          "output_type": "execute_result",
          "data": {
            "text/plain": [
              "5"
            ]
          },
          "metadata": {
            "tags": []
          },
          "execution_count": 4
        }
      ]
    },
    {
      "cell_type": "code",
      "metadata": {
        "colab": {
          "base_uri": "https://localhost:8080/",
          "height": 180
        },
        "id": "tI8ORzKyLvtn",
        "outputId": "c54b35f8-ed67-4d87-83ea-17e3825678b7"
      },
      "source": [
        "c1 = 'string4'\n",
        "int(c1) # eroare"
      ],
      "execution_count": null,
      "outputs": [
        {
          "output_type": "error",
          "ename": "ValueError",
          "evalue": "ignored",
          "traceback": [
            "\u001b[0;31m---------------------------------------------------------------------------\u001b[0m",
            "\u001b[0;31mValueError\u001b[0m                                Traceback (most recent call last)",
            "\u001b[0;32m<ipython-input-5-fa4c38ef3e53>\u001b[0m in \u001b[0;36m<module>\u001b[0;34m()\u001b[0m\n\u001b[1;32m      1\u001b[0m \u001b[0mc1\u001b[0m \u001b[0;34m=\u001b[0m \u001b[0;34m'string4'\u001b[0m\u001b[0;34m\u001b[0m\u001b[0;34m\u001b[0m\u001b[0m\n\u001b[0;32m----> 2\u001b[0;31m \u001b[0mint\u001b[0m\u001b[0;34m(\u001b[0m\u001b[0mc1\u001b[0m\u001b[0;34m)\u001b[0m \u001b[0;31m# eroare\u001b[0m\u001b[0;34m\u001b[0m\u001b[0;34m\u001b[0m\u001b[0m\n\u001b[0m",
            "\u001b[0;31mValueError\u001b[0m: invalid literal for int() with base 10: 'string4'"
          ]
        }
      ]
    },
    {
      "cell_type": "code",
      "metadata": {
        "colab": {
          "base_uri": "https://localhost:8080/"
        },
        "id": "mgaHNgaULxh2",
        "outputId": "9a310f9b-53ea-433f-de7b-ffb758e9ce54"
      },
      "source": [
        "a = 5\n",
        "print(a == b)"
      ],
      "execution_count": null,
      "outputs": [
        {
          "output_type": "stream",
          "text": [
            "False\n"
          ],
          "name": "stdout"
        }
      ]
    },
    {
      "cell_type": "code",
      "metadata": {
        "colab": {
          "base_uri": "https://localhost:8080/"
        },
        "id": "YPrqGWoHLyve",
        "outputId": "7fe9b38e-90ac-47bf-86dc-5942a390b9ed"
      },
      "source": [
        "lista = [2,5,7,9,10]\n",
        "print(lista[0]);"
      ],
      "execution_count": null,
      "outputs": [
        {
          "output_type": "stream",
          "text": [
            "2\n"
          ],
          "name": "stdout"
        }
      ]
    },
    {
      "cell_type": "code",
      "metadata": {
        "colab": {
          "base_uri": "https://localhost:8080/"
        },
        "id": "XULeM8RBL0Zu",
        "outputId": "48509414-47c1-4d63-db96-6c8f12c6e0da"
      },
      "source": [
        "note = [10, 5, 7, 8]\n",
        "note.append(10);\n",
        "print(note)"
      ],
      "execution_count": null,
      "outputs": [
        {
          "output_type": "stream",
          "text": [
            "[10, 5, 7, 8, 10]\n"
          ],
          "name": "stdout"
        }
      ]
    },
    {
      "cell_type": "code",
      "metadata": {
        "colab": {
          "base_uri": "https://localhost:8080/"
        },
        "id": "_tHCWTW6L1yn",
        "outputId": "7d1030a4-f5a7-4ea0-a356-c6a08d5b96af"
      },
      "source": [
        "nota_medie = 8.75\n",
        "\n",
        "if nota_medie > 10 or nota_medie < 0:\n",
        "    print('eroare')\n",
        "elif nota_medie <= 10 and nota_medie >= 9:\n",
        "    print('eminent')\n",
        "elif nota_medie < 9 and nota_medie >= 8:\n",
        "    print('fruntas')\n",
        "else:\n",
        "    print('nici una, nici alta')"
      ],
      "execution_count": null,
      "outputs": [
        {
          "output_type": "stream",
          "text": [
            "fruntas\n"
          ],
          "name": "stdout"
        }
      ]
    },
    {
      "cell_type": "code",
      "metadata": {
        "colab": {
          "base_uri": "https://localhost:8080/"
        },
        "id": "1ShcCsn5L3jq",
        "outputId": "c0f355c1-3545-4d03-bccc-275f52e00a0d"
      },
      "source": [
        "range(5) #lista pana la 5, exclusiv"
      ],
      "execution_count": null,
      "outputs": [
        {
          "output_type": "execute_result",
          "data": {
            "text/plain": [
              "range(0, 5)"
            ]
          },
          "metadata": {
            "tags": []
          },
          "execution_count": 10
        }
      ]
    },
    {
      "cell_type": "code",
      "metadata": {
        "colab": {
          "base_uri": "https://localhost:8080/"
        },
        "id": "kF538dmDL5Le",
        "outputId": "2fde39bd-55f1-49de-cba8-2d6e47cbb993"
      },
      "source": [
        "note = [10, 7, 8, 9, 10]\n",
        "suma = 0\n",
        "#len(lista) - lungimea listei\n",
        "#len = 5\n",
        "#range(5) - [0, 1, 2, 3, 4]\n",
        "for i in range(len(note)):\n",
        "    suma = suma + note[i]\n",
        "print(suma)\n",
        "nota_medie = suma / len(note)\n",
        "print(nota_medie)"
      ],
      "execution_count": null,
      "outputs": [
        {
          "output_type": "stream",
          "text": [
            "44\n",
            "8.8\n"
          ],
          "name": "stdout"
        }
      ]
    },
    {
      "cell_type": "code",
      "metadata": {
        "colab": {
          "base_uri": "https://localhost:8080/"
        },
        "id": "m7T3oos7L6yy",
        "outputId": "460f2df2-b2bd-4149-f1ed-889ec4761c41"
      },
      "source": [
        "print(set(note))"
      ],
      "execution_count": null,
      "outputs": [
        {
          "output_type": "stream",
          "text": [
            "{8, 9, 10, 7}\n"
          ],
          "name": "stdout"
        }
      ]
    },
    {
      "cell_type": "code",
      "metadata": {
        "colab": {
          "base_uri": "https://localhost:8080/"
        },
        "id": "15pRoSK3L7U1",
        "outputId": "a77abfc6-e96d-4790-e295-c3ebc7e71aa5"
      },
      "source": [
        "note = [10, 7, 8, 9, 10]\n",
        "suma = 0\n",
        "for i in note:\n",
        "    suma += i\n",
        "print(suma)"
      ],
      "execution_count": null,
      "outputs": [
        {
          "output_type": "stream",
          "text": [
            "44\n"
          ],
          "name": "stdout"
        }
      ]
    },
    {
      "cell_type": "code",
      "metadata": {
        "colab": {
          "base_uri": "https://localhost:8080/"
        },
        "id": "xRU0XNvoL9ta",
        "outputId": "7fe08893-1fbe-49ae-8192-2921ea48c02b"
      },
      "source": [
        "note = [10, 7, 8, 9, 10]\n",
        "suma = 0\n",
        "i = 0\n",
        "while i < len(note):\n",
        "    suma = suma + note[i]\n",
        "    i += 1\n",
        "print(suma)"
      ],
      "execution_count": null,
      "outputs": [
        {
          "output_type": "stream",
          "text": [
            "44\n"
          ],
          "name": "stdout"
        }
      ]
    },
    {
      "cell_type": "code",
      "metadata": {
        "colab": {
          "base_uri": "https://localhost:8080/"
        },
        "id": "VOqPs_WiL_Jz",
        "outputId": "c7b96c79-9be4-4d88-eaf6-43c09be4c12f"
      },
      "source": [
        "#y = 2x, x>= 0\n",
        "#y = x/2, x<0\n",
        "x = int(input('introduce valoarea lui x'))\n",
        "if x >= 0:\n",
        "    y = 2 * x\n",
        "else:\n",
        "    y = x / 2\n",
        "print('valoarea lui y este ',y)"
      ],
      "execution_count": null,
      "outputs": [
        {
          "output_type": "stream",
          "text": [
            "introduce valoarea lui x3\n",
            "valoarea lui y este  6\n"
          ],
          "name": "stdout"
        }
      ]
    },
    {
      "cell_type": "code",
      "metadata": {
        "colab": {
          "base_uri": "https://localhost:8080/"
        },
        "id": "BFQI8CM0MC66",
        "outputId": "d057a985-e908-43ed-9bca-a1f1f02fa8e1"
      },
      "source": [
        "#y = x + 3, x > 5\n",
        "#y = x - 3, x <= 5\n",
        "x = int(input('introduce valoarea lui x'))\n",
        "if x > 5:\n",
        "    y = x + 3\n",
        "else:\n",
        "    y = x - 3\n",
        "print('valoarea lui y este ',y)"
      ],
      "execution_count": null,
      "outputs": [
        {
          "output_type": "stream",
          "text": [
            "introduce valoarea lui x6\n",
            "valoarea lui y este  9\n"
          ],
          "name": "stdout"
        }
      ]
    },
    {
      "cell_type": "code",
      "metadata": {
        "colab": {
          "base_uri": "https://localhost:8080/"
        },
        "id": "qhHwwuImMF7H",
        "outputId": "e19e0140-dc58-4a08-a537-324b8a5cfd0b"
      },
      "source": [
        "import math\n",
        "a = int(input('scrie valoarea lui a'))\n",
        "b = int(input('scrie valoarea lui b'))\n",
        "c = int(input('scrie valoarea lui c'))\n",
        "x = (-b + math.sqrt(b ** 2 - 4 * a * c)) / (2 * a)\n",
        "print(x)"
      ],
      "execution_count": null,
      "outputs": [
        {
          "output_type": "stream",
          "text": [
            "scrie valoarea lui a1\n",
            "scrie valoarea lui b3\n",
            "scrie valoarea lui c1\n",
            "-0.3819660112501051\n"
          ],
          "name": "stdout"
        }
      ]
    },
    {
      "cell_type": "code",
      "metadata": {
        "colab": {
          "base_uri": "https://localhost:8080/"
        },
        "id": "OVxpQEziML1m",
        "outputId": "00d86003-388e-4d28-898c-bef42b050b4a"
      },
      "source": [
        "#y = x, |X| > 5\n",
        "#y = 2 * x, |X| <= 5\n",
        "import math\n",
        "x = int(input('introduce valoarea lui x'))\n",
        "if math.fabs(x) > 5:\n",
        "    y = x \n",
        "elif math.fabs(x) <= 5:\n",
        "    y = x * 2\n",
        "print('valoarea lui y este ',y)"
      ],
      "execution_count": null,
      "outputs": [
        {
          "output_type": "stream",
          "text": [
            "introduce valoarea lui x5\n",
            "valoarea lui y este  10\n"
          ],
          "name": "stdout"
        }
      ]
    },
    {
      "cell_type": "markdown",
      "metadata": {
        "id": "tS4liafsNFZS"
      },
      "source": [
        "# Homework"
      ]
    },
    {
      "cell_type": "code",
      "metadata": {
        "id": "-Z6cHbrnMPTe",
        "colab": {
          "base_uri": "https://localhost:8080/"
        },
        "outputId": "75ea3cde-26a4-4b4a-d7dd-a85cb55105d3"
      },
      "source": [
        "nr_lunii = int(input('Scrie numarul de ordine a lunii'))\n",
        "anul = int(input('Scrie anul'))\n",
        "nr_zile = 0\n",
        "luni_31 = [1, 3, 5, 7, 8, 10, 12]\n",
        "if nr_lunii >=1 and nr_lunii <= 12:\n",
        "    if nr_lunii == 2:\n",
        "        if ((anul / 4) - int(anul / 4)) == 0:\n",
        "            nr_zile = 29\n",
        "        else:\n",
        "            nr_zile = 28\n",
        "    elif nr_lunii in luni_31:\n",
        "        nr_zile = 31\n",
        "    else:\n",
        "        nr_zile = 30\n",
        "    print(nr_zile)\n",
        "else:\n",
        "    print('Eroare: scrie o luna reala')"
      ],
      "execution_count": null,
      "outputs": [
        {
          "output_type": "stream",
          "text": [
            "Scrie numarul de ordine a lunii4\n",
            "Scrie anul2004\n",
            "30\n"
          ],
          "name": "stdout"
        }
      ]
    }
  ]
}