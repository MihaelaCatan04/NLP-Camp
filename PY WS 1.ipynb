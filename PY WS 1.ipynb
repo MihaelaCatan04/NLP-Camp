nr_lunii = int(input('Scrie numarul de ordine a lunii'))
anul = int(input('Scrie anul'))
nr_zile = 0
luni_31 = [1, 3, 5, 7, 8, 10, 12]
if nr_lunii >=1 and nr_lunii <= 12:
    if nr_lunii == 2:
        if ((anul / 4) - int(anul / 4)) == 0:
            nr_zile = 29
        else:
            nr_zile = 28
    elif nr_lunii in luni_31:
        nr_zile = 31
    else:
        nr_zile = 30
    print(nr_zile)
else:
    print('Eroare: scrie o luna reala')
