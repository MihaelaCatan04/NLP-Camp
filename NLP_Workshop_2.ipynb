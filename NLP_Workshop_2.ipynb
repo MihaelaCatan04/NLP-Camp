{
  "nbformat": 4,
  "nbformat_minor": 0,
  "metadata": {
    "kernelspec": {
      "display_name": "Python 3",
      "language": "python",
      "name": "python3"
    },
    "language_info": {
      "codemirror_mode": {
        "name": "ipython",
        "version": 3
      },
      "file_extension": ".py",
      "mimetype": "text/x-python",
      "name": "python",
      "nbconvert_exporter": "python",
      "pygments_lexer": "ipython3",
      "version": "3.8.5"
    },
    "colab": {
      "name": "NLP Workshop 2.ipynb",
      "provenance": [],
      "toc_visible": true
    }
  },
  "cells": [
    {
      "cell_type": "markdown",
      "metadata": {
        "id": "SZ8siZvTNLFX"
      },
      "source": [
        "# Classwork\n"
      ]
    },
    {
      "cell_type": "code",
      "metadata": {
        "id": "Yj6yXz-WMrdd"
      },
      "source": [
        "sent = \"Today I don't want to go to the theater! :(\""
      ],
      "execution_count": 51,
      "outputs": []
    },
    {
      "cell_type": "code",
      "metadata": {
        "colab": {
          "base_uri": "https://localhost:8080/",
          "height": 0
        },
        "id": "qHcDoRYiMrdo",
        "outputId": "68ffb2e8-2ab1-4266-f35e-6a13550b36cd"
      },
      "source": [
        "sent.split()"
      ],
      "execution_count": 2,
      "outputs": [
        {
          "output_type": "execute_result",
          "data": {
            "text/plain": [
              "['Today', 'I', \"don't\", 'want', 'to', 'go', 'to', 'the', 'theater!', ':(']"
            ]
          },
          "metadata": {
            "tags": []
          },
          "execution_count": 2
        }
      ]
    },
    {
      "cell_type": "code",
      "metadata": {
        "colab": {
          "base_uri": "https://localhost:8080/",
          "height": 0
        },
        "id": "NsYtwAFwMrdr",
        "outputId": "362a4338-d252-4699-e1af-6597f8819f79"
      },
      "source": [
        "sent.split(\"\\'\")"
      ],
      "execution_count": 3,
      "outputs": [
        {
          "output_type": "execute_result",
          "data": {
            "text/plain": [
              "['Today I don', 't want to go to the theater! :(']"
            ]
          },
          "metadata": {
            "tags": []
          },
          "execution_count": 3
        }
      ]
    },
    {
      "cell_type": "code",
      "metadata": {
        "colab": {
          "base_uri": "https://localhost:8080/",
          "height": 0
        },
        "id": "oTsi1Z6wMrds",
        "outputId": "c83463f5-3fd8-4804-d168-bd0b3eb06d58"
      },
      "source": [
        "sent.split(' t')"
      ],
      "execution_count": 4,
      "outputs": [
        {
          "output_type": "execute_result",
          "data": {
            "text/plain": [
              "[\"Today I don't want\", 'o go', 'o', 'he', 'heater! :(']"
            ]
          },
          "metadata": {
            "tags": []
          },
          "execution_count": 4
        }
      ]
    },
    {
      "cell_type": "code",
      "metadata": {
        "id": "WftnNLg7Mrds"
      },
      "source": [
        "import nltk"
      ],
      "execution_count": 5,
      "outputs": []
    },
    {
      "cell_type": "code",
      "metadata": {
        "id": "JwwQVs7UMrdt"
      },
      "source": [
        "from nltk.tokenize import word_tokenize"
      ],
      "execution_count": 6,
      "outputs": []
    },
    {
      "cell_type": "code",
      "metadata": {
        "colab": {
          "base_uri": "https://localhost:8080/",
          "height": 0
        },
        "id": "ZBC9XbQrMrdt",
        "outputId": "3bdd2e7b-8f29-49e6-a0d0-d9958f5ec7cf"
      },
      "source": [
        "import nltk\n",
        "nltk.download('punkt')"
      ],
      "execution_count": 7,
      "outputs": [
        {
          "output_type": "stream",
          "text": [
            "[nltk_data] Downloading package punkt to /root/nltk_data...\n",
            "[nltk_data]   Unzipping tokenizers/punkt.zip.\n"
          ],
          "name": "stdout"
        },
        {
          "output_type": "execute_result",
          "data": {
            "text/plain": [
              "True"
            ]
          },
          "metadata": {
            "tags": []
          },
          "execution_count": 7
        }
      ]
    },
    {
      "cell_type": "code",
      "metadata": {
        "colab": {
          "base_uri": "https://localhost:8080/",
          "height": 0
        },
        "id": "e5CuqJhUMrdu",
        "outputId": "6a635966-9056-45db-9766-c72f526ad4e8"
      },
      "source": [
        "word_tokenize(sent)"
      ],
      "execution_count": 8,
      "outputs": [
        {
          "output_type": "execute_result",
          "data": {
            "text/plain": [
              "['Today',\n",
              " 'I',\n",
              " 'do',\n",
              " \"n't\",\n",
              " 'want',\n",
              " 'to',\n",
              " 'go',\n",
              " 'to',\n",
              " 'the',\n",
              " 'theater',\n",
              " '!',\n",
              " ':',\n",
              " '(']"
            ]
          },
          "metadata": {
            "tags": []
          },
          "execution_count": 8
        }
      ]
    },
    {
      "cell_type": "code",
      "metadata": {
        "id": "wT6seEYxMrdv"
      },
      "source": [
        "from nltk.tokenize import casual_tokenize"
      ],
      "execution_count": 9,
      "outputs": []
    },
    {
      "cell_type": "code",
      "metadata": {
        "colab": {
          "base_uri": "https://localhost:8080/",
          "height": 0
        },
        "id": "M6cNdNk5Mrdv",
        "outputId": "888cc188-6f8d-43fd-daf9-0ba3dcd45aa3"
      },
      "source": [
        "casual_tokenize(sent)"
      ],
      "execution_count": 10,
      "outputs": [
        {
          "output_type": "execute_result",
          "data": {
            "text/plain": [
              "['Today', 'I', \"don't\", 'want', 'to', 'go', 'to', 'the', 'theater', '!', ':(']"
            ]
          },
          "metadata": {
            "tags": []
          },
          "execution_count": 10
        }
      ]
    },
    {
      "cell_type": "code",
      "metadata": {
        "id": "VvuBuOyFMrdw"
      },
      "source": [
        "from nltk.tokenize import MWETokenizer"
      ],
      "execution_count": 11,
      "outputs": []
    },
    {
      "cell_type": "code",
      "metadata": {
        "id": "uLneblp6Mrdw"
      },
      "source": [
        "token = MWETokenizer([('to', 'go'), ('the', 'theater')])"
      ],
      "execution_count": 12,
      "outputs": []
    },
    {
      "cell_type": "code",
      "metadata": {
        "colab": {
          "base_uri": "https://localhost:8080/",
          "height": 0
        },
        "id": "T-7_uFJRMrdw",
        "outputId": "18a07466-5c18-4c03-eca9-f5f9fb11af60"
      },
      "source": [
        "token.tokenize(sent.split())"
      ],
      "execution_count": 13,
      "outputs": [
        {
          "output_type": "execute_result",
          "data": {
            "text/plain": [
              "['Today', 'I', \"don't\", 'want', 'to_go', 'to', 'the', 'theater!', ':(']"
            ]
          },
          "metadata": {
            "tags": []
          },
          "execution_count": 13
        }
      ]
    },
    {
      "cell_type": "code",
      "metadata": {
        "colab": {
          "base_uri": "https://localhost:8080/",
          "height": 0
        },
        "id": "zvUTZLnTMrdx",
        "outputId": "cab43d6c-d936-49e6-a247-afc4832f181c"
      },
      "source": [
        "token.tokenize(casual_tokenize(sent))"
      ],
      "execution_count": 14,
      "outputs": [
        {
          "output_type": "execute_result",
          "data": {
            "text/plain": [
              "['Today', 'I', \"don't\", 'want', 'to_go', 'to', 'the_theater', '!', ':(']"
            ]
          },
          "metadata": {
            "tags": []
          },
          "execution_count": 14
        }
      ]
    },
    {
      "cell_type": "code",
      "metadata": {
        "id": "HjJHlO_BMrdx"
      },
      "source": [
        "token.add_mwe(('the', 'cinema'))"
      ],
      "execution_count": 15,
      "outputs": []
    },
    {
      "cell_type": "code",
      "metadata": {
        "id": "_mnD3w2UMrdy"
      },
      "source": [
        "sent2 = \"Today I don't want to go to the cinema! :(\""
      ],
      "execution_count": 16,
      "outputs": []
    },
    {
      "cell_type": "code",
      "metadata": {
        "colab": {
          "base_uri": "https://localhost:8080/",
          "height": 0
        },
        "id": "jwR9EYXPMrdy",
        "outputId": "d55e0371-5dbf-4e63-cc80-d4c8a72aa21a"
      },
      "source": [
        "token.tokenize(casual_tokenize(sent2))"
      ],
      "execution_count": 17,
      "outputs": [
        {
          "output_type": "execute_result",
          "data": {
            "text/plain": [
              "['Today', 'I', \"don't\", 'want', 'to_go', 'to', 'the_cinema', '!', ':(']"
            ]
          },
          "metadata": {
            "tags": []
          },
          "execution_count": 17
        }
      ]
    },
    {
      "cell_type": "code",
      "metadata": {
        "id": "nT3JLR8GMrdy"
      },
      "source": [
        "text = \"Good muffins cost $3.88 in New York. Please buy me two of them. Thank you.\""
      ],
      "execution_count": 18,
      "outputs": []
    },
    {
      "cell_type": "code",
      "metadata": {
        "id": "W7cQglnAMrdz"
      },
      "source": [
        "from nltk.tokenize import sent_tokenize"
      ],
      "execution_count": 19,
      "outputs": []
    },
    {
      "cell_type": "code",
      "metadata": {
        "colab": {
          "base_uri": "https://localhost:8080/",
          "height": 0
        },
        "id": "vru1uN2xMrdz",
        "outputId": "147ebe8f-e53f-48fb-a089-1dd44a833a73"
      },
      "source": [
        "sent_tokenize(text)"
      ],
      "execution_count": 20,
      "outputs": [
        {
          "output_type": "execute_result",
          "data": {
            "text/plain": [
              "['Good muffins cost $3.88 in New York.',\n",
              " 'Please buy me two of them.',\n",
              " 'Thank you.']"
            ]
          },
          "metadata": {
            "tags": []
          },
          "execution_count": 20
        }
      ]
    },
    {
      "cell_type": "code",
      "metadata": {
        "id": "pPhfy7bdMrdz"
      },
      "source": [
        "from nltk.stem import PorterStemmer"
      ],
      "execution_count": 21,
      "outputs": []
    },
    {
      "cell_type": "code",
      "metadata": {
        "id": "gbliNuJUMrdz"
      },
      "source": [
        "porter = PorterStemmer()"
      ],
      "execution_count": 22,
      "outputs": []
    },
    {
      "cell_type": "code",
      "metadata": {
        "colab": {
          "base_uri": "https://localhost:8080/",
          "height": 35
        },
        "id": "y9ie1zGSMrd0",
        "outputId": "4fc015f2-c5c6-4c1f-d074-e04cbae4755c"
      },
      "source": [
        "porter.stem('engineering')"
      ],
      "execution_count": 23,
      "outputs": [
        {
          "output_type": "execute_result",
          "data": {
            "application/vnd.google.colaboratory.intrinsic+json": {
              "type": "string"
            },
            "text/plain": [
              "'engin'"
            ]
          },
          "metadata": {
            "tags": []
          },
          "execution_count": 23
        }
      ]
    },
    {
      "cell_type": "code",
      "metadata": {
        "id": "MPNsAuQJMrd0"
      },
      "source": [
        "from nltk.stem import LancasterStemmer"
      ],
      "execution_count": 24,
      "outputs": []
    },
    {
      "cell_type": "code",
      "metadata": {
        "id": "zb8o9f9sMrd0"
      },
      "source": [
        "lancaster = LancasterStemmer()"
      ],
      "execution_count": 25,
      "outputs": []
    },
    {
      "cell_type": "code",
      "metadata": {
        "colab": {
          "base_uri": "https://localhost:8080/",
          "height": 35
        },
        "id": "1_8sm5EVMrd0",
        "outputId": "ec4a10e5-ac17-4e40-9b70-ce9ee7683d6c"
      },
      "source": [
        "lancaster.stem('engineering')"
      ],
      "execution_count": 26,
      "outputs": [
        {
          "output_type": "execute_result",
          "data": {
            "application/vnd.google.colaboratory.intrinsic+json": {
              "type": "string"
            },
            "text/plain": [
              "'engin'"
            ]
          },
          "metadata": {
            "tags": []
          },
          "execution_count": 26
        }
      ]
    },
    {
      "cell_type": "code",
      "metadata": {
        "id": "eE49JBTtMrd1"
      },
      "source": [
        "from nltk.stem import SnowballStemmer\n",
        "snowball = SnowballStemmer(language = 'english')"
      ],
      "execution_count": 27,
      "outputs": []
    },
    {
      "cell_type": "code",
      "metadata": {
        "colab": {
          "base_uri": "https://localhost:8080/",
          "height": 35
        },
        "id": "n8qrAxFKMrd1",
        "outputId": "24d068dc-8105-480a-8361-d93690d90297"
      },
      "source": [
        "snowball.stem('engineering')"
      ],
      "execution_count": 28,
      "outputs": [
        {
          "output_type": "execute_result",
          "data": {
            "application/vnd.google.colaboratory.intrinsic+json": {
              "type": "string"
            },
            "text/plain": [
              "'engin'"
            ]
          },
          "metadata": {
            "tags": []
          },
          "execution_count": 28
        }
      ]
    },
    {
      "cell_type": "code",
      "metadata": {
        "id": "0bxuZEIeMrd1"
      },
      "source": [
        "from nltk.stem import SnowballStemmer\n",
        "snowball = SnowballStemmer(language = 'romanian')"
      ],
      "execution_count": 29,
      "outputs": []
    },
    {
      "cell_type": "code",
      "metadata": {
        "colab": {
          "base_uri": "https://localhost:8080/",
          "height": 35
        },
        "id": "4Za2fh5TMrd1",
        "outputId": "f725351c-7d00-4b4d-9302-ffab2a91d053"
      },
      "source": [
        "snowball.stem('a prelungi')"
      ],
      "execution_count": 30,
      "outputs": [
        {
          "output_type": "execute_result",
          "data": {
            "application/vnd.google.colaboratory.intrinsic+json": {
              "type": "string"
            },
            "text/plain": [
              "'a prelung'"
            ]
          },
          "metadata": {
            "tags": []
          },
          "execution_count": 30
        }
      ]
    },
    {
      "cell_type": "code",
      "metadata": {
        "colab": {
          "base_uri": "https://localhost:8080/",
          "height": 35
        },
        "id": "qiIDYNemMrd2",
        "outputId": "d1b99c94-9b76-4877-ada0-a0d7f01ae68f"
      },
      "source": [
        "sent"
      ],
      "execution_count": 31,
      "outputs": [
        {
          "output_type": "execute_result",
          "data": {
            "application/vnd.google.colaboratory.intrinsic+json": {
              "type": "string"
            },
            "text/plain": [
              "\"Today I don't want to go to the theater! :(\""
            ]
          },
          "metadata": {
            "tags": []
          },
          "execution_count": 31
        }
      ]
    },
    {
      "cell_type": "code",
      "metadata": {
        "id": "HBhWvC9WMrd2"
      },
      "source": [
        "snowball = SnowballStemmer(language = 'english')"
      ],
      "execution_count": 32,
      "outputs": []
    },
    {
      "cell_type": "code",
      "metadata": {
        "colab": {
          "base_uri": "https://localhost:8080/",
          "height": 35
        },
        "id": "lp5MMb4IMrd3",
        "outputId": "ff60e49d-027c-4a48-91e6-d418c0d6031e"
      },
      "source": [
        "stemmed_sent = ' '.join([snowball.stem(word) for word in casual_tokenize(sent)])\n",
        "stemmed_sent"
      ],
      "execution_count": 33,
      "outputs": [
        {
          "output_type": "execute_result",
          "data": {
            "application/vnd.google.colaboratory.intrinsic+json": {
              "type": "string"
            },
            "text/plain": [
              "\"today i don't want to go to the theater ! :(\""
            ]
          },
          "metadata": {
            "tags": []
          },
          "execution_count": 33
        }
      ]
    },
    {
      "cell_type": "code",
      "metadata": {
        "colab": {
          "base_uri": "https://localhost:8080/",
          "height": 35
        },
        "id": "6tFLEYMoMrd3",
        "outputId": "fdd6b719-93b3-4148-af54-cd16703274d8"
      },
      "source": [
        "sent3 = 'I like engineering!'\n",
        "stemmed_sent3 = ' '.join([snowball.stem(word) for word in casual_tokenize(sent3)])\n",
        "stemmed_sent3"
      ],
      "execution_count": 34,
      "outputs": [
        {
          "output_type": "execute_result",
          "data": {
            "application/vnd.google.colaboratory.intrinsic+json": {
              "type": "string"
            },
            "text/plain": [
              "'i like engin !'"
            ]
          },
          "metadata": {
            "tags": []
          },
          "execution_count": 34
        }
      ]
    },
    {
      "cell_type": "code",
      "metadata": {
        "colab": {
          "base_uri": "https://localhost:8080/",
          "height": 35
        },
        "id": "sJGql685Mrd3",
        "outputId": "7247a8df-a207-430e-fe6b-377602249097"
      },
      "source": [
        "lista = ['eu', 'am', 'mere']\n",
        "stringul = ' bla '.join(lista)\n",
        "stringul"
      ],
      "execution_count": 35,
      "outputs": [
        {
          "output_type": "execute_result",
          "data": {
            "application/vnd.google.colaboratory.intrinsic+json": {
              "type": "string"
            },
            "text/plain": [
              "'eu bla am bla mere'"
            ]
          },
          "metadata": {
            "tags": []
          },
          "execution_count": 35
        }
      ]
    },
    {
      "cell_type": "code",
      "metadata": {
        "id": "pWpUc7LuMrd4"
      },
      "source": [
        "from nltk.stem import WordNetLemmatizer"
      ],
      "execution_count": 36,
      "outputs": []
    },
    {
      "cell_type": "code",
      "metadata": {
        "id": "yvNZnfUmMrd4"
      },
      "source": [
        "lemma = WordNetLemmatizer()"
      ],
      "execution_count": 37,
      "outputs": []
    },
    {
      "cell_type": "code",
      "metadata": {
        "colab": {
          "base_uri": "https://localhost:8080/",
          "height": 0
        },
        "id": "pb0KZknqMrd4",
        "outputId": "691d3a54-9ae6-4150-cbd2-f8149e7839b2"
      },
      "source": [
        "import nltk\n",
        "nltk.download('wordnet')\n"
      ],
      "execution_count": 38,
      "outputs": [
        {
          "output_type": "stream",
          "text": [
            "[nltk_data] Downloading package wordnet to /root/nltk_data...\n",
            "[nltk_data]   Unzipping corpora/wordnet.zip.\n"
          ],
          "name": "stdout"
        },
        {
          "output_type": "execute_result",
          "data": {
            "text/plain": [
              "True"
            ]
          },
          "metadata": {
            "tags": []
          },
          "execution_count": 38
        }
      ]
    },
    {
      "cell_type": "code",
      "metadata": {
        "colab": {
          "base_uri": "https://localhost:8080/",
          "height": 35
        },
        "id": "H93Imgp_Mrd4",
        "outputId": "34665974-cc14-4b9f-d7b5-1f4deb114183"
      },
      "source": [
        "lemma.lemmatize('engineering')"
      ],
      "execution_count": 39,
      "outputs": [
        {
          "output_type": "execute_result",
          "data": {
            "application/vnd.google.colaboratory.intrinsic+json": {
              "type": "string"
            },
            "text/plain": [
              "'engineering'"
            ]
          },
          "metadata": {
            "tags": []
          },
          "execution_count": 39
        }
      ]
    },
    {
      "cell_type": "code",
      "metadata": {
        "id": "xNfu4i-gMrd5"
      },
      "source": [
        "from nltk.probability import FreqDist"
      ],
      "execution_count": 40,
      "outputs": []
    },
    {
      "cell_type": "code",
      "metadata": {
        "id": "uRUgENfrMrd5"
      },
      "source": [
        "freq_dist = FreqDist(casual_tokenize(sent))"
      ],
      "execution_count": 41,
      "outputs": []
    },
    {
      "cell_type": "code",
      "metadata": {
        "colab": {
          "base_uri": "https://localhost:8080/",
          "height": 0
        },
        "id": "gg6Q8CBBMrd5",
        "outputId": "ad93de09-3af6-48e4-8e84-a9b15134a107"
      },
      "source": [
        "freq_dist.most_common(2)"
      ],
      "execution_count": 42,
      "outputs": [
        {
          "output_type": "execute_result",
          "data": {
            "text/plain": [
              "[('to', 2), ('Today', 1)]"
            ]
          },
          "metadata": {
            "tags": []
          },
          "execution_count": 42
        }
      ]
    },
    {
      "cell_type": "code",
      "metadata": {
        "colab": {
          "base_uri": "https://localhost:8080/",
          "height": 0
        },
        "id": "aD0DlO2yMrd5",
        "outputId": "a7bce071-4692-41f2-e582-6f4308a8f5c4"
      },
      "source": [
        "freq_dist.hapaxes()"
      ],
      "execution_count": 43,
      "outputs": [
        {
          "output_type": "execute_result",
          "data": {
            "text/plain": [
              "['Today', 'I', \"don't\", 'want', 'go', 'the', 'theater', '!', ':(']"
            ]
          },
          "metadata": {
            "tags": []
          },
          "execution_count": 43
        }
      ]
    },
    {
      "cell_type": "code",
      "metadata": {
        "id": "5At7AUpVMrd6"
      },
      "source": [
        "from nltk import pos_tag"
      ],
      "execution_count": 44,
      "outputs": []
    },
    {
      "cell_type": "code",
      "metadata": {
        "colab": {
          "base_uri": "https://localhost:8080/",
          "height": 0
        },
        "id": "fiGtKVUjMrd6",
        "outputId": "038c127d-7019-4852-809d-5efa260eb2d9"
      },
      "source": [
        "import nltk\n",
        "nltk.download('averaged_perceptron_tagger')"
      ],
      "execution_count": 45,
      "outputs": [
        {
          "output_type": "stream",
          "text": [
            "[nltk_data] Downloading package averaged_perceptron_tagger to\n",
            "[nltk_data]     /root/nltk_data...\n",
            "[nltk_data]   Unzipping taggers/averaged_perceptron_tagger.zip.\n"
          ],
          "name": "stdout"
        },
        {
          "output_type": "execute_result",
          "data": {
            "text/plain": [
              "True"
            ]
          },
          "metadata": {
            "tags": []
          },
          "execution_count": 45
        }
      ]
    },
    {
      "cell_type": "code",
      "metadata": {
        "id": "lkO-KlJ_Mrd6"
      },
      "source": [
        "pos = pos_tag(word_tokenize(text))"
      ],
      "execution_count": 46,
      "outputs": []
    },
    {
      "cell_type": "code",
      "metadata": {
        "colab": {
          "base_uri": "https://localhost:8080/",
          "height": 0
        },
        "id": "90Aki3EDMrd6",
        "outputId": "c548efc3-5895-4200-b175-29fa5ef749bd"
      },
      "source": [
        "import nltk\n",
        "nltk.download('maxent_ne_chunker')"
      ],
      "execution_count": 47,
      "outputs": [
        {
          "output_type": "stream",
          "text": [
            "[nltk_data] Downloading package maxent_ne_chunker to\n",
            "[nltk_data]     /root/nltk_data...\n",
            "[nltk_data]   Unzipping chunkers/maxent_ne_chunker.zip.\n"
          ],
          "name": "stdout"
        },
        {
          "output_type": "execute_result",
          "data": {
            "text/plain": [
              "True"
            ]
          },
          "metadata": {
            "tags": []
          },
          "execution_count": 47
        }
      ]
    },
    {
      "cell_type": "code",
      "metadata": {
        "colab": {
          "base_uri": "https://localhost:8080/",
          "height": 0
        },
        "id": "ecD83ITFMrd7",
        "outputId": "b03e4d8d-1c8b-43ee-f594-e6bcb55d2b90"
      },
      "source": [
        "import nltk\n",
        "nltk.download('words')"
      ],
      "execution_count": 48,
      "outputs": [
        {
          "output_type": "stream",
          "text": [
            "[nltk_data] Downloading package words to /root/nltk_data...\n",
            "[nltk_data]   Unzipping corpora/words.zip.\n"
          ],
          "name": "stdout"
        },
        {
          "output_type": "execute_result",
          "data": {
            "text/plain": [
              "True"
            ]
          },
          "metadata": {
            "tags": []
          },
          "execution_count": 48
        }
      ]
    },
    {
      "cell_type": "code",
      "metadata": {
        "colab": {
          "base_uri": "https://localhost:8080/",
          "height": 0
        },
        "id": "lk4nFBTbMrd7",
        "outputId": "bf9d2155-c949-4320-b66e-268786927708"
      },
      "source": [
        "for chunk in nltk.ne_chunk(pos):\n",
        "    print(chunk)"
      ],
      "execution_count": 49,
      "outputs": [
        {
          "output_type": "stream",
          "text": [
            "(GPE Good/JJ)\n",
            "('muffins', 'NNS')\n",
            "('cost', 'VBP')\n",
            "('$', '$')\n",
            "('3.88', 'CD')\n",
            "('in', 'IN')\n",
            "(GPE New/NNP York/NNP)\n",
            "('.', '.')\n",
            "('Please', 'NNP')\n",
            "('buy', 'VB')\n",
            "('me', 'PRP')\n",
            "('two', 'CD')\n",
            "('of', 'IN')\n",
            "('them', 'PRP')\n",
            "('.', '.')\n",
            "('Thank', 'VB')\n",
            "('you', 'PRP')\n",
            "('.', '.')\n"
          ],
          "name": "stdout"
        }
      ]
    },
    {
      "cell_type": "code",
      "metadata": {
        "colab": {
          "base_uri": "https://localhost:8080/",
          "height": 0
        },
        "id": "dA-ikxjbMrd7",
        "outputId": "ac22fbe9-ee22-4c6c-8990-1ac35f12cb1c"
      },
      "source": [
        "for chunk in nltk.ne_chunk(pos):\n",
        "    if hasattr(chunk, 'label'):\n",
        "        print(chunk.label())"
      ],
      "execution_count": 50,
      "outputs": [
        {
          "output_type": "stream",
          "text": [
            "GPE\n",
            "GPE\n"
          ],
          "name": "stdout"
        }
      ]
    },
    {
      "cell_type": "markdown",
      "metadata": {
        "id": "CUZan7mVNSJR"
      },
      "source": [
        "# Homework"
      ]
    },
    {
      "cell_type": "markdown",
      "metadata": {
        "id": "MeWzXn5auS3-"
      },
      "source": [
        "## Task 1. Citirea fișierului .txt."
      ]
    },
    {
      "cell_type": "code",
      "metadata": {
        "colab": {
          "base_uri": "https://localhost:8080/",
          "height": 0
        },
        "id": "Cc9bGCmHNUSU",
        "outputId": "9b0a9bfe-0d8f-4332-ba6a-231a0a739c5f"
      },
      "source": [
        "from google.colab import drive\n",
        "drive.mount('/content/gdrive')"
      ],
      "execution_count": 101,
      "outputs": [
        {
          "output_type": "stream",
          "text": [
            "Drive already mounted at /content/gdrive; to attempt to forcibly remount, call drive.mount(\"/content/gdrive\", force_remount=True).\n"
          ],
          "name": "stdout"
        }
      ]
    },
    {
      "cell_type": "code",
      "metadata": {
        "colab": {
          "base_uri": "https://localhost:8080/",
          "height": 0
        },
        "id": "yTFMVbM9OS7c",
        "outputId": "01ee511d-f36b-4bc1-c409-ad78a68de345"
      },
      "source": [
        "data = open('/content/gdrive/MyDrive/NLPCamp/class_11_biology_chapter_1_0.txt','r')\n",
        "content = data.read()\n",
        "print(content)"
      ],
      "execution_count": 102,
      "outputs": [
        {
          "output_type": "stream",
          "text": [
            "Chapter 1\n",
            "The Living World\n",
            "\n",
            "Chapter 2\n",
            "Biological Classification\n",
            "\n",
            "Chapter 3\n",
            "Plant Kingdom\n",
            "\n",
            "Chapter 4\n",
            "Animal Kingdom\n",
            "\n",
            " \n",
            "\n",
            "UNIT I\n",
            "\n",
            "DIVERSITY IN THE LIVING WORLD\n",
            "\n",
            "Biology is the science of life forms and living processes. The living world\n",
            "comprises an amazing diversity of living organisms. Early man could\n",
            "easily perceive the difference between inanimate matter and living\n",
            "organisms. Early man deified some of the inanimate matter (wind, sea,\n",
            "fire etc.) and some among the animals and plants. A common feature of\n",
            "all such forms of inanimate and animate objects was the sense of awe\n",
            "or fear that they evoked. The description of living organisms including\n",
            "human beings began much later in human history. Societies which\n",
            "indulged in anthropocentric view of biology could register limited\n",
            "progress in biological knowledge. Systematic and monumental\n",
            "description of life forms brought in, out of necessity, detailed systems\n",
            "of identification, nomenclature and classification. The biggest spin off\n",
            "of such studies was the recognition of the sharing of similarities among\n",
            "living organisms both horizontally and vertically. That all present day\n",
            "living organisms are related to each other and also to all organisms\n",
            "that ever lived on this earth, was a revelation which humbled man and\n",
            "led to cultural movements for conservation of biodiversity. In the\n",
            "following chapters of this unit, you will get a description, including\n",
            "classification, of animals and plants from a taxonomist’s perspective.\n",
            "\n",
            "2019-2020\n"
          ],
          "name": "stdout"
        }
      ]
    },
    {
      "cell_type": "code",
      "metadata": {
        "id": "NxDF0aneQ3rt"
      },
      "source": [
        "content = content.lower()"
      ],
      "execution_count": 103,
      "outputs": []
    },
    {
      "cell_type": "code",
      "metadata": {
        "colab": {
          "base_uri": "https://localhost:8080/",
          "height": 0
        },
        "id": "B0OAKkpwWomK",
        "outputId": "34f3ff73-c488-4f71-a10c-0fb146161c04"
      },
      "source": [
        "print(content)"
      ],
      "execution_count": 104,
      "outputs": [
        {
          "output_type": "stream",
          "text": [
            "chapter 1\n",
            "the living world\n",
            "\n",
            "chapter 2\n",
            "biological classification\n",
            "\n",
            "chapter 3\n",
            "plant kingdom\n",
            "\n",
            "chapter 4\n",
            "animal kingdom\n",
            "\n",
            " \n",
            "\n",
            "unit i\n",
            "\n",
            "diversity in the living world\n",
            "\n",
            "biology is the science of life forms and living processes. the living world\n",
            "comprises an amazing diversity of living organisms. early man could\n",
            "easily perceive the difference between inanimate matter and living\n",
            "organisms. early man deified some of the inanimate matter (wind, sea,\n",
            "fire etc.) and some among the animals and plants. a common feature of\n",
            "all such forms of inanimate and animate objects was the sense of awe\n",
            "or fear that they evoked. the description of living organisms including\n",
            "human beings began much later in human history. societies which\n",
            "indulged in anthropocentric view of biology could register limited\n",
            "progress in biological knowledge. systematic and monumental\n",
            "description of life forms brought in, out of necessity, detailed systems\n",
            "of identification, nomenclature and classification. the biggest spin off\n",
            "of such studies was the recognition of the sharing of similarities among\n",
            "living organisms both horizontally and vertically. that all present day\n",
            "living organisms are related to each other and also to all organisms\n",
            "that ever lived on this earth, was a revelation which humbled man and\n",
            "led to cultural movements for conservation of biodiversity. in the\n",
            "following chapters of this unit, you will get a description, including\n",
            "classification, of animals and plants from a taxonomist’s perspective.\n",
            "\n",
            "2019-2020\n"
          ],
          "name": "stdout"
        }
      ]
    },
    {
      "cell_type": "markdown",
      "metadata": {
        "id": "0s3tDVMGude2"
      },
      "source": [
        "## Task 2. Obține metadatele fișierului."
      ]
    },
    {
      "cell_type": "code",
      "metadata": {
        "id": "cETnxrnFRmRj"
      },
      "source": [
        "import nltk"
      ],
      "execution_count": 105,
      "outputs": []
    },
    {
      "cell_type": "code",
      "metadata": {
        "colab": {
          "base_uri": "https://localhost:8080/"
        },
        "id": "ZYZ_qr9sRqiN",
        "outputId": "96d53b50-4f92-4358-ea60-519d83b9e45f"
      },
      "source": [
        "from nltk.tokenize import sent_tokenize\n",
        "sentences = sent_tokenize(content)\n",
        "print(sentences)"
      ],
      "execution_count": 208,
      "outputs": [
        {
          "output_type": "stream",
          "text": [
            "['chapter 1\\nthe living world\\n\\nchapter 2\\nbiological classification\\n\\nchapter 3\\nplant kingdom\\n\\nchapter 4\\nanimal kingdom\\n\\n \\n\\nunit i\\n\\ndiversity in the living world\\n\\nbiology is the science of life forms and living processes.', 'the living world\\ncomprises an amazing diversity of living organisms.', 'early man could\\neasily perceive the difference between inanimate matter and living\\norganisms.', 'early man deified some of the inanimate matter (wind, sea,\\nfire etc.)', 'and some among the animals and plants.', 'a common feature of\\nall such forms of inanimate and animate objects was the sense of awe\\nor fear that they evoked.', 'the description of living organisms including\\nhuman beings began much later in human history.', 'societies which\\nindulged in anthropocentric view of biology could register limited\\nprogress in biological knowledge.', 'systematic and monumental\\ndescription of life forms brought in, out of necessity, detailed systems\\nof identification, nomenclature and classification.', 'the biggest spin off\\nof such studies was the recognition of the sharing of similarities among\\nliving organisms both horizontally and vertically.', 'that all present day\\nliving organisms are related to each other and also to all organisms\\nthat ever lived on this earth, was a revelation which humbled man and\\nled to cultural movements for conservation of biodiversity.', 'in the\\nfollowing chapters of this unit, you will get a description, including\\nclassification, of animals and plants from a taxonomist’s perspective.', '2019-2020']\n"
          ],
          "name": "stdout"
        }
      ]
    },
    {
      "cell_type": "code",
      "metadata": {
        "colab": {
          "base_uri": "https://localhost:8080/"
        },
        "id": "3mv5lQhuSDg9",
        "outputId": "40dddae9-ff28-40fc-9bbf-9abc064d2455"
      },
      "source": [
        "from nltk.tokenize import word_tokenize\n",
        "word = word_tokenize(content)\n",
        "print(word)"
      ],
      "execution_count": 209,
      "outputs": [
        {
          "output_type": "stream",
          "text": [
            "['chapter', '1', 'the', 'living', 'world', 'chapter', '2', 'biological', 'classification', 'chapter', '3', 'plant', 'kingdom', 'chapter', '4', 'animal', 'kingdom', 'unit', 'i', 'diversity', 'in', 'the', 'living', 'world', 'biology', 'is', 'the', 'science', 'of', 'life', 'forms', 'and', 'living', 'processes', '.', 'the', 'living', 'world', 'comprises', 'an', 'amazing', 'diversity', 'of', 'living', 'organisms', '.', 'early', 'man', 'could', 'easily', 'perceive', 'the', 'difference', 'between', 'inanimate', 'matter', 'and', 'living', 'organisms', '.', 'early', 'man', 'deified', 'some', 'of', 'the', 'inanimate', 'matter', '(', 'wind', ',', 'sea', ',', 'fire', 'etc', '.', ')', 'and', 'some', 'among', 'the', 'animals', 'and', 'plants', '.', 'a', 'common', 'feature', 'of', 'all', 'such', 'forms', 'of', 'inanimate', 'and', 'animate', 'objects', 'was', 'the', 'sense', 'of', 'awe', 'or', 'fear', 'that', 'they', 'evoked', '.', 'the', 'description', 'of', 'living', 'organisms', 'including', 'human', 'beings', 'began', 'much', 'later', 'in', 'human', 'history', '.', 'societies', 'which', 'indulged', 'in', 'anthropocentric', 'view', 'of', 'biology', 'could', 'register', 'limited', 'progress', 'in', 'biological', 'knowledge', '.', 'systematic', 'and', 'monumental', 'description', 'of', 'life', 'forms', 'brought', 'in', ',', 'out', 'of', 'necessity', ',', 'detailed', 'systems', 'of', 'identification', ',', 'nomenclature', 'and', 'classification', '.', 'the', 'biggest', 'spin', 'off', 'of', 'such', 'studies', 'was', 'the', 'recognition', 'of', 'the', 'sharing', 'of', 'similarities', 'among', 'living', 'organisms', 'both', 'horizontally', 'and', 'vertically', '.', 'that', 'all', 'present', 'day', 'living', 'organisms', 'are', 'related', 'to', 'each', 'other', 'and', 'also', 'to', 'all', 'organisms', 'that', 'ever', 'lived', 'on', 'this', 'earth', ',', 'was', 'a', 'revelation', 'which', 'humbled', 'man', 'and', 'led', 'to', 'cultural', 'movements', 'for', 'conservation', 'of', 'biodiversity', '.', 'in', 'the', 'following', 'chapters', 'of', 'this', 'unit', ',', 'you', 'will', 'get', 'a', 'description', ',', 'including', 'classification', ',', 'of', 'animals', 'and', 'plants', 'from', 'a', 'taxonomist', '’', 's', 'perspective', '.', '2019-2020']\n"
          ],
          "name": "stdout"
        }
      ]
    },
    {
      "cell_type": "code",
      "metadata": {
        "colab": {
          "base_uri": "https://localhost:8080/",
          "height": 0
        },
        "id": "xepYGgBXSbn-",
        "outputId": "693287bf-5bc7-4f0c-fb62-1c900465a861"
      },
      "source": [
        "from nltk.tokenize import casual_tokenize\n",
        "casual = casual_tokenize(content)\n",
        "print(casual)"
      ],
      "execution_count": 108,
      "outputs": [
        {
          "output_type": "stream",
          "text": [
            "['chapter', '1', 'the', 'living', 'world', 'chapter', '2', 'biological', 'classification', 'chapter', '3', 'plant', 'kingdom', 'chapter', '4', 'animal', 'kingdom', 'unit', 'i', 'diversity', 'in', 'the', 'living', 'world', 'biology', 'is', 'the', 'science', 'of', 'life', 'forms', 'and', 'living', 'processes', '.', 'the', 'living', 'world', 'comprises', 'an', 'amazing', 'diversity', 'of', 'living', 'organisms', '.', 'early', 'man', 'could', 'easily', 'perceive', 'the', 'difference', 'between', 'inanimate', 'matter', 'and', 'living', 'organisms', '.', 'early', 'man', 'deified', 'some', 'of', 'the', 'inanimate', 'matter', '(', 'wind', ',', 'sea', ',', 'fire', 'etc', '.', ')', 'and', 'some', 'among', 'the', 'animals', 'and', 'plants', '.', 'a', 'common', 'feature', 'of', 'all', 'such', 'forms', 'of', 'inanimate', 'and', 'animate', 'objects', 'was', 'the', 'sense', 'of', 'awe', 'or', 'fear', 'that', 'they', 'evoked', '.', 'the', 'description', 'of', 'living', 'organisms', 'including', 'human', 'beings', 'began', 'much', 'later', 'in', 'human', 'history', '.', 'societies', 'which', 'indulged', 'in', 'anthropocentric', 'view', 'of', 'biology', 'could', 'register', 'limited', 'progress', 'in', 'biological', 'knowledge', '.', 'systematic', 'and', 'monumental', 'description', 'of', 'life', 'forms', 'brought', 'in', ',', 'out', 'of', 'necessity', ',', 'detailed', 'systems', 'of', 'identification', ',', 'nomenclature', 'and', 'classification', '.', 'the', 'biggest', 'spin', 'off', 'of', 'such', 'studies', 'was', 'the', 'recognition', 'of', 'the', 'sharing', 'of', 'similarities', 'among', 'living', 'organisms', 'both', 'horizontally', 'and', 'vertically', '.', 'that', 'all', 'present', 'day', 'living', 'organisms', 'are', 'related', 'to', 'each', 'other', 'and', 'also', 'to', 'all', 'organisms', 'that', 'ever', 'lived', 'on', 'this', 'earth', ',', 'was', 'a', 'revelation', 'which', 'humbled', 'man', 'and', 'led', 'to', 'cultural', 'movements', 'for', 'conservation', 'of', 'biodiversity', '.', 'in', 'the', 'following', 'chapters', 'of', 'this', 'unit', ',', 'you', 'will', 'get', 'a', 'description', ',', 'including', 'classification', ',', 'of', 'animals', 'and', 'plants', 'from', 'a', 'taxonomist', '’', 's', 'perspective', '.', '2019-2020']\n"
          ],
          "name": "stdout"
        }
      ]
    },
    {
      "cell_type": "code",
      "metadata": {
        "colab": {
          "base_uri": "https://localhost:8080/",
          "height": 0
        },
        "id": "Zvi-0goPSotz",
        "outputId": "24a4e23d-616c-4221-c7f6-9fa0b7b9632e"
      },
      "source": [
        "from nltk.tokenize import MWETokenizer\n",
        "MWET = casual_tokenize(content)\n",
        "print(MWET)"
      ],
      "execution_count": 109,
      "outputs": [
        {
          "output_type": "stream",
          "text": [
            "['chapter', '1', 'the', 'living', 'world', 'chapter', '2', 'biological', 'classification', 'chapter', '3', 'plant', 'kingdom', 'chapter', '4', 'animal', 'kingdom', 'unit', 'i', 'diversity', 'in', 'the', 'living', 'world', 'biology', 'is', 'the', 'science', 'of', 'life', 'forms', 'and', 'living', 'processes', '.', 'the', 'living', 'world', 'comprises', 'an', 'amazing', 'diversity', 'of', 'living', 'organisms', '.', 'early', 'man', 'could', 'easily', 'perceive', 'the', 'difference', 'between', 'inanimate', 'matter', 'and', 'living', 'organisms', '.', 'early', 'man', 'deified', 'some', 'of', 'the', 'inanimate', 'matter', '(', 'wind', ',', 'sea', ',', 'fire', 'etc', '.', ')', 'and', 'some', 'among', 'the', 'animals', 'and', 'plants', '.', 'a', 'common', 'feature', 'of', 'all', 'such', 'forms', 'of', 'inanimate', 'and', 'animate', 'objects', 'was', 'the', 'sense', 'of', 'awe', 'or', 'fear', 'that', 'they', 'evoked', '.', 'the', 'description', 'of', 'living', 'organisms', 'including', 'human', 'beings', 'began', 'much', 'later', 'in', 'human', 'history', '.', 'societies', 'which', 'indulged', 'in', 'anthropocentric', 'view', 'of', 'biology', 'could', 'register', 'limited', 'progress', 'in', 'biological', 'knowledge', '.', 'systematic', 'and', 'monumental', 'description', 'of', 'life', 'forms', 'brought', 'in', ',', 'out', 'of', 'necessity', ',', 'detailed', 'systems', 'of', 'identification', ',', 'nomenclature', 'and', 'classification', '.', 'the', 'biggest', 'spin', 'off', 'of', 'such', 'studies', 'was', 'the', 'recognition', 'of', 'the', 'sharing', 'of', 'similarities', 'among', 'living', 'organisms', 'both', 'horizontally', 'and', 'vertically', '.', 'that', 'all', 'present', 'day', 'living', 'organisms', 'are', 'related', 'to', 'each', 'other', 'and', 'also', 'to', 'all', 'organisms', 'that', 'ever', 'lived', 'on', 'this', 'earth', ',', 'was', 'a', 'revelation', 'which', 'humbled', 'man', 'and', 'led', 'to', 'cultural', 'movements', 'for', 'conservation', 'of', 'biodiversity', '.', 'in', 'the', 'following', 'chapters', 'of', 'this', 'unit', ',', 'you', 'will', 'get', 'a', 'description', ',', 'including', 'classification', ',', 'of', 'animals', 'and', 'plants', 'from', 'a', 'taxonomist', '’', 's', 'perspective', '.', '2019-2020']\n"
          ],
          "name": "stdout"
        }
      ]
    },
    {
      "cell_type": "code",
      "metadata": {
        "colab": {
          "base_uri": "https://localhost:8080/"
        },
        "id": "5MEkSOqiTKie",
        "outputId": "5c4d19b3-2b02-40a6-b553-449e21a189a9"
      },
      "source": [
        "average_tokens = round(len(casual)/len(sentences))\n",
        "print(\"The average number of tokens per sentence is\", average_tokens)"
      ],
      "execution_count": 216,
      "outputs": [
        {
          "output_type": "stream",
          "text": [
            "The average number of tokens per sentence is 10\n"
          ],
          "name": "stdout"
        }
      ]
    },
    {
      "cell_type": "code",
      "metadata": {
        "colab": {
          "base_uri": "https://localhost:8080/",
          "height": 0
        },
        "id": "8ScKkPA6TLno",
        "outputId": "b294c5de-fa20-490c-f8ee-671ccc2871dc"
      },
      "source": [
        "word = set(word)\n",
        "casual = set(casual)\n",
        "MWET = set(MWET)\n",
        "print(word)\n",
        "print(casual)\n",
        "print(MWET)"
      ],
      "execution_count": 110,
      "outputs": [
        {
          "output_type": "stream",
          "text": [
            "{'classification', '2', 'biodiversity', 'conservation', 'the', 'cultural', '.', 'this', 'organisms', 'off', 'much', 'sharing', 'matter', '’', 'also', 'are', 'comprises', 'nomenclature', 'movements', 'will', 'difference', 'began', 'objects', 'similarities', 'human', 'living', 'life', 'studies', 'deified', 'and', 'spin', 'fire', 'horizontally', 'both', ')', 'is', 'such', 'other', 'some', 'later', '4', 'which', 'plant', 'get', 'you', 'view', 'present', 'from', 'easily', '(', 'register', 'to', 'animal', 'was', 'amazing', 'sense', 's', 'earth', 'systematic', 'fear', 'man', 'following', 'science', 'that', 'each', 'chapters', 'vertically', 'monumental', 'anthropocentric', 'ever', 'perspective', 'including', 'unit', 'detailed', 'world', 'among', 'awe', '1', 'biggest', 'animate', '3', 'day', 'biological', 'lived', 'all', 'diversity', 'out', 'i', 'societies', 'for', '2019-2020', 'knowledge', 'identification', 'processes', 'early', 'brought', 'inanimate', 'beings', 'on', 'could', 'indulged', 'animals', 'common', 'they', 'humbled', 'led', 'in', 'or', 'necessity', 'revelation', 'an', 'a', 'history', 'chapter', 'of', 'biology', 'kingdom', 'limited', 'forms', 'feature', 'perceive', 'recognition', 'taxonomist', 'sea', ',', 'wind', 'description', 'systems', 'between', 'plants', 'etc', 'progress', 'evoked', 'related'}\n",
            "{'classification', '2', 'biodiversity', 'conservation', 'the', 'cultural', '.', 'this', 'organisms', 'off', 'much', 'sharing', 'matter', '’', 'also', 'are', 'comprises', 'nomenclature', 'movements', 'will', 'difference', 'began', 'objects', 'similarities', 'human', 'living', 'life', 'studies', 'deified', 'and', 'spin', 'fire', 'horizontally', 'both', ')', 'is', 'such', 'other', 'some', 'later', '4', 'which', 'plant', 'get', 'you', 'view', 'present', 'from', 'easily', '(', 'register', 'to', 'animal', 'was', 'amazing', 'sense', 's', 'earth', 'systematic', 'fear', 'man', 'following', 'science', 'that', 'each', 'chapters', 'vertically', 'monumental', 'anthropocentric', 'ever', 'perspective', 'including', 'unit', 'detailed', 'world', 'among', 'awe', '1', 'biggest', 'animate', '3', 'day', 'biological', 'lived', 'all', 'diversity', 'out', 'i', 'societies', 'for', '2019-2020', 'knowledge', 'identification', 'processes', 'early', 'brought', 'inanimate', 'beings', 'on', 'could', 'indulged', 'animals', 'common', 'they', 'humbled', 'led', 'in', 'or', 'necessity', 'revelation', 'an', 'a', 'history', 'chapter', 'of', 'biology', 'kingdom', 'limited', 'forms', 'feature', 'perceive', 'recognition', 'taxonomist', 'sea', ',', 'wind', 'description', 'systems', 'between', 'plants', 'etc', 'progress', 'evoked', 'related'}\n",
            "{'classification', '2', 'biodiversity', 'conservation', 'the', 'cultural', '.', 'this', 'organisms', 'off', 'much', 'sharing', 'matter', '’', 'also', 'are', 'comprises', 'nomenclature', 'movements', 'will', 'difference', 'began', 'objects', 'similarities', 'human', 'living', 'life', 'studies', 'deified', 'and', 'spin', 'fire', 'horizontally', 'both', ')', 'is', 'such', 'other', 'some', 'later', '4', 'which', 'plant', 'get', 'you', 'view', 'present', 'from', 'easily', '(', 'register', 'to', 'animal', 'was', 'amazing', 'sense', 's', 'earth', 'systematic', 'fear', 'man', 'following', 'science', 'that', 'each', 'chapters', 'vertically', 'monumental', 'anthropocentric', 'ever', 'perspective', 'including', 'unit', 'detailed', 'world', 'among', 'awe', '1', 'biggest', 'animate', '3', 'day', 'biological', 'lived', 'all', 'diversity', 'out', 'i', 'societies', 'for', '2019-2020', 'knowledge', 'identification', 'processes', 'early', 'brought', 'inanimate', 'beings', 'on', 'could', 'indulged', 'animals', 'common', 'they', 'humbled', 'led', 'in', 'or', 'necessity', 'revelation', 'an', 'a', 'history', 'chapter', 'of', 'biology', 'kingdom', 'limited', 'forms', 'feature', 'perceive', 'recognition', 'taxonomist', 'sea', ',', 'wind', 'description', 'systems', 'between', 'plants', 'etc', 'progress', 'evoked', 'related'}\n"
          ],
          "name": "stdout"
        }
      ]
    },
    {
      "cell_type": "markdown",
      "metadata": {
        "id": "KzaQbjJfunpP"
      },
      "source": [
        "## Task 3. Compararea stemmerilor."
      ]
    },
    {
      "cell_type": "code",
      "metadata": {
        "colab": {
          "base_uri": "https://localhost:8080/"
        },
        "id": "5ODsbo_fWL79",
        "outputId": "6c11d8cc-7fd6-4690-966e-b838388e6615"
      },
      "source": [
        "new_set = word.union(casual, MWET)\n",
        "print(new_set)"
      ],
      "execution_count": 135,
      "outputs": [
        {
          "output_type": "stream",
          "text": [
            "{'classification', '2', 'biodiversity', 'conservation', 'the', 'cultural', '.', 'this', 'organisms', 'off', 'much', 'sharing', 'matter', '’', 'also', 'are', 'comprises', 'nomenclature', 'movements', 'will', 'difference', 'began', 'objects', 'similarities', 'human', 'living', 'life', 'studies', 'deified', 'and', 'spin', 'fire', 'horizontally', 'both', ')', 'is', 'such', 'other', 'some', 'later', '4', 'which', 'plant', 'get', 'you', 'view', 'present', 'from', 'easily', '(', 'register', 'to', 'animal', 'was', 'amazing', 'sense', 's', 'earth', 'systematic', 'fear', 'man', 'following', 'science', 'that', 'each', 'chapters', 'vertically', 'monumental', 'anthropocentric', 'ever', 'perspective', 'including', 'unit', 'detailed', 'world', 'among', 'awe', '1', 'biggest', 'animate', '3', 'day', 'biological', 'lived', 'all', 'diversity', 'out', 'i', 'societies', 'for', '2019-2020', 'knowledge', 'identification', 'processes', 'early', 'brought', 'inanimate', 'beings', 'on', 'could', 'indulged', 'animals', 'common', 'they', 'humbled', 'led', 'in', 'or', 'necessity', 'revelation', 'an', 'a', 'history', 'chapter', 'of', 'biology', 'kingdom', 'limited', 'forms', 'feature', 'perceive', 'recognition', 'taxonomist', 'sea', ',', 'wind', 'description', 'systems', 'between', 'plants', 'etc', 'progress', 'evoked', 'related'}\n"
          ],
          "name": "stdout"
        }
      ]
    },
    {
      "cell_type": "code",
      "metadata": {
        "colab": {
          "base_uri": "https://localhost:8080/"
        },
        "id": "d5RpbAnSaxrh",
        "outputId": "1cf10629-e591-442e-9f06-4e4f31c43a20"
      },
      "source": [
        "import pandas as pd\n",
        "df = pd.DataFrame(list(new_set))\n",
        "print(df)"
      ],
      "execution_count": 156,
      "outputs": [
        {
          "output_type": "stream",
          "text": [
            "                  0\n",
            "0    classification\n",
            "1                 2\n",
            "2      biodiversity\n",
            "3      conservation\n",
            "4               the\n",
            "..              ...\n",
            "129          plants\n",
            "130             etc\n",
            "131        progress\n",
            "132          evoked\n",
            "133         related\n",
            "\n",
            "[134 rows x 1 columns]\n"
          ],
          "name": "stdout"
        }
      ]
    },
    {
      "cell_type": "code",
      "metadata": {
        "colab": {
          "base_uri": "https://localhost:8080/"
        },
        "id": "_EOTsSK-eayt",
        "outputId": "cae75ee8-7f48-4d35-cf54-f89d57c8b885"
      },
      "source": [
        "df.columns = ['original_token']\n",
        "print(df)"
      ],
      "execution_count": 157,
      "outputs": [
        {
          "output_type": "stream",
          "text": [
            "     original_token\n",
            "0    classification\n",
            "1                 2\n",
            "2      biodiversity\n",
            "3      conservation\n",
            "4               the\n",
            "..              ...\n",
            "129          plants\n",
            "130             etc\n",
            "131        progress\n",
            "132          evoked\n",
            "133         related\n",
            "\n",
            "[134 rows x 1 columns]\n"
          ],
          "name": "stdout"
        }
      ]
    },
    {
      "cell_type": "code",
      "metadata": {
        "id": "fKbhnwVzWt7b"
      },
      "source": [
        "from nltk.stem import PorterStemmer\n",
        "porter = PorterStemmer()\n",
        "df['porter'] = [porter.stem(word) for word in list(new_set)]"
      ],
      "execution_count": 164,
      "outputs": []
    },
    {
      "cell_type": "code",
      "metadata": {
        "id": "use557Y6ZXrV"
      },
      "source": [
        "from nltk.stem import LancasterStemmer\n",
        "lancaster = LancasterStemmer()\n",
        "df['lancaster'] = [lancaster.stem(word) for word in list(new_set)]"
      ],
      "execution_count": 165,
      "outputs": []
    },
    {
      "cell_type": "code",
      "metadata": {
        "id": "_wtGEgvDe8aR"
      },
      "source": [
        "from nltk.stem import SnowballStemmer\n",
        "snowball = SnowballStemmer(language = 'english')\n",
        "df['snowball'] = [snowball.stem(word) for word in list(new_set)]"
      ],
      "execution_count": 166,
      "outputs": []
    },
    {
      "cell_type": "code",
      "metadata": {
        "colab": {
          "base_uri": "https://localhost:8080/"
        },
        "id": "R4zTaPiNfJVZ",
        "outputId": "7a1e0473-7de0-4f2f-801b-2c0a5afec027"
      },
      "source": [
        "print(df)"
      ],
      "execution_count": 167,
      "outputs": [
        {
          "output_type": "stream",
          "text": [
            "     original_token     porter   snowball  lancaster\n",
            "0    classification    classif    classif      class\n",
            "1                 2          2          2          2\n",
            "2      biodiversity  biodivers  biodivers  biodivers\n",
            "3      conservation    conserv    conserv    conserv\n",
            "4               the        the        the        the\n",
            "..              ...        ...        ...        ...\n",
            "129          plants      plant      plant      plant\n",
            "130             etc        etc        etc        etc\n",
            "131        progress   progress   progress   progress\n",
            "132          evoked       evok       evok       evok\n",
            "133         related      relat      relat        rel\n",
            "\n",
            "[134 rows x 4 columns]\n"
          ],
          "name": "stdout"
        }
      ]
    },
    {
      "cell_type": "markdown",
      "metadata": {
        "id": "OXs4OTU5urXD"
      },
      "source": [
        "## Task 4. Frecvența cuvintelor."
      ]
    },
    {
      "cell_type": "code",
      "metadata": {
        "colab": {
          "base_uri": "https://localhost:8080/"
        },
        "id": "WSw6TpjZhFto",
        "outputId": "424c2911-7548-47e3-d250-148eb2510f73"
      },
      "source": [
        "from nltk.probability import FreqDist\n",
        "freq_dist = FreqDist(casual_tokenize(content))\n",
        "freq_dist.most_common(10)"
      ],
      "execution_count": 170,
      "outputs": [
        {
          "output_type": "execute_result",
          "data": {
            "text/plain": [
              "[('of', 17),\n",
              " ('the', 13),\n",
              " ('.', 12),\n",
              " ('and', 11),\n",
              " ('living', 9),\n",
              " (',', 9),\n",
              " ('in', 6),\n",
              " ('organisms', 6),\n",
              " ('chapter', 4),\n",
              " ('a', 4)]"
            ]
          },
          "metadata": {
            "tags": []
          },
          "execution_count": 170
        }
      ]
    },
    {
      "cell_type": "code",
      "metadata": {
        "colab": {
          "base_uri": "https://localhost:8080/"
        },
        "id": "oMYx-3qAiXQU",
        "outputId": "97a3ddc6-248c-40db-973d-cccd8085673d"
      },
      "source": [
        "freq_dist.hapaxes()"
      ],
      "execution_count": 171,
      "outputs": [
        {
          "output_type": "execute_result",
          "data": {
            "text/plain": [
              "['1',\n",
              " '2',\n",
              " '3',\n",
              " 'plant',\n",
              " '4',\n",
              " 'animal',\n",
              " 'i',\n",
              " 'is',\n",
              " 'science',\n",
              " 'processes',\n",
              " 'comprises',\n",
              " 'an',\n",
              " 'amazing',\n",
              " 'easily',\n",
              " 'perceive',\n",
              " 'difference',\n",
              " 'between',\n",
              " 'deified',\n",
              " '(',\n",
              " 'wind',\n",
              " 'sea',\n",
              " 'fire',\n",
              " 'etc',\n",
              " ')',\n",
              " 'common',\n",
              " 'feature',\n",
              " 'animate',\n",
              " 'objects',\n",
              " 'sense',\n",
              " 'awe',\n",
              " 'or',\n",
              " 'fear',\n",
              " 'they',\n",
              " 'evoked',\n",
              " 'beings',\n",
              " 'began',\n",
              " 'much',\n",
              " 'later',\n",
              " 'history',\n",
              " 'societies',\n",
              " 'indulged',\n",
              " 'anthropocentric',\n",
              " 'view',\n",
              " 'register',\n",
              " 'limited',\n",
              " 'progress',\n",
              " 'knowledge',\n",
              " 'systematic',\n",
              " 'monumental',\n",
              " 'brought',\n",
              " 'out',\n",
              " 'necessity',\n",
              " 'detailed',\n",
              " 'systems',\n",
              " 'identification',\n",
              " 'nomenclature',\n",
              " 'biggest',\n",
              " 'spin',\n",
              " 'off',\n",
              " 'studies',\n",
              " 'recognition',\n",
              " 'sharing',\n",
              " 'similarities',\n",
              " 'both',\n",
              " 'horizontally',\n",
              " 'vertically',\n",
              " 'present',\n",
              " 'day',\n",
              " 'are',\n",
              " 'related',\n",
              " 'each',\n",
              " 'other',\n",
              " 'also',\n",
              " 'ever',\n",
              " 'lived',\n",
              " 'on',\n",
              " 'earth',\n",
              " 'revelation',\n",
              " 'humbled',\n",
              " 'led',\n",
              " 'cultural',\n",
              " 'movements',\n",
              " 'for',\n",
              " 'conservation',\n",
              " 'biodiversity',\n",
              " 'following',\n",
              " 'chapters',\n",
              " 'you',\n",
              " 'will',\n",
              " 'get',\n",
              " 'from',\n",
              " 'taxonomist',\n",
              " '’',\n",
              " 's',\n",
              " 'perspective',\n",
              " '2019-2020']"
            ]
          },
          "metadata": {
            "tags": []
          },
          "execution_count": 171
        }
      ]
    },
    {
      "cell_type": "code",
      "metadata": {
        "colab": {
          "base_uri": "https://localhost:8080/",
          "height": 616
        },
        "id": "MEUajKTEk3uE",
        "outputId": "625865a2-cf9d-4017-f7f6-397bc1f66769"
      },
      "source": [
        "import seaborn as sns\n",
        "all_fdist = FreqDist(freq_dist).most_common(10)\n",
        "all_fdist = pd.Series(dict(all_fdist))\n",
        "fig, ax = plt.subplots(figsize=(10,10))\n",
        "all_plot = sns.barplot(x=all_fdist.index, y=all_fdist.values, ax=ax)\n",
        "plt.xticks(rotation=30);"
      ],
      "execution_count": 175,
      "outputs": [
        {
          "output_type": "display_data",
          "data": {
            "image/png": "[encoded data removed]",
            "text/plain": [
              "<Figure size 720x720 with 1 Axes>"
            ]
          },
          "metadata": {
            "tags": [],
            "needs_background": "light"
          }
        }
      ]
    },
    {
      "cell_type": "markdown",
      "metadata": {
        "id": "two1duuDuvks"
      },
      "source": [
        "## Task 5. Extragerea părților de vorbire."
      ]
    },
    {
      "cell_type": "code",
      "metadata": {
        "colab": {
          "base_uri": "https://localhost:8080/"
        },
        "id": "xtlPr35WmGWc",
        "outputId": "daddfb8f-15e9-402d-9956-cfb72c51fda6"
      },
      "source": [
        "from nltk import pos_tag\n",
        "pos = pos_tag(casual_tokenize(content))\n",
        "print(pos)\n",
        "\n",
        "output_dict = {}\n",
        "for key, value in pos:\n",
        "\n",
        "    if value not in output_dict:\n",
        "        output_dict[value] = []\n",
        "\n",
        "    output_dict[value].append(key)\n",
        "print(output_dict)"
      ],
      "execution_count": 199,
      "outputs": [
        {
          "output_type": "stream",
          "text": [
            "[('chapter', 'NN'), ('1', 'CD'), ('the', 'DT'), ('living', 'NN'), ('world', 'NN'), ('chapter', 'NN'), ('2', 'CD'), ('biological', 'JJ'), ('classification', 'NN'), ('chapter', 'NN'), ('3', 'CD'), ('plant', 'NN'), ('kingdom', 'NN'), ('chapter', 'NN'), ('4', 'CD'), ('animal', 'JJ'), ('kingdom', 'NN'), ('unit', 'NN'), ('i', 'JJ'), ('diversity', 'NN'), ('in', 'IN'), ('the', 'DT'), ('living', 'NN'), ('world', 'NN'), ('biology', 'NN'), ('is', 'VBZ'), ('the', 'DT'), ('science', 'NN'), ('of', 'IN'), ('life', 'NN'), ('forms', 'NNS'), ('and', 'CC'), ('living', 'NN'), ('processes', 'NNS'), ('.', '.'), ('the', 'DT'), ('living', 'NN'), ('world', 'NN'), ('comprises', 'VBZ'), ('an', 'DT'), ('amazing', 'JJ'), ('diversity', 'NN'), ('of', 'IN'), ('living', 'NN'), ('organisms', 'NNS'), ('.', '.'), ('early', 'JJ'), ('man', 'NN'), ('could', 'MD'), ('easily', 'RB'), ('perceive', 'VB'), ('the', 'DT'), ('difference', 'NN'), ('between', 'IN'), ('inanimate', 'JJ'), ('matter', 'NN'), ('and', 'CC'), ('living', 'VBG'), ('organisms', 'NNS'), ('.', '.'), ('early', 'JJ'), ('man', 'NN'), ('deified', 'VBD'), ('some', 'DT'), ('of', 'IN'), ('the', 'DT'), ('inanimate', 'JJ'), ('matter', 'NN'), ('(', '('), ('wind', 'NN'), (',', ','), ('sea', 'NN'), (',', ','), ('fire', 'NN'), ('etc', 'NN'), ('.', '.'), (')', ')'), ('and', 'CC'), ('some', 'DT'), ('among', 'IN'), ('the', 'DT'), ('animals', 'NNS'), ('and', 'CC'), ('plants', 'NNS'), ('.', '.'), ('a', 'DT'), ('common', 'JJ'), ('feature', 'NN'), ('of', 'IN'), ('all', 'DT'), ('such', 'JJ'), ('forms', 'NNS'), ('of', 'IN'), ('inanimate', 'NN'), ('and', 'CC'), ('animate', 'JJ'), ('objects', 'NNS'), ('was', 'VBD'), ('the', 'DT'), ('sense', 'NN'), ('of', 'IN'), ('awe', 'NN'), ('or', 'CC'), ('fear', 'NN'), ('that', 'IN'), ('they', 'PRP'), ('evoked', 'VBD'), ('.', '.'), ('the', 'DT'), ('description', 'NN'), ('of', 'IN'), ('living', 'NN'), ('organisms', 'NNS'), ('including', 'VBG'), ('human', 'JJ'), ('beings', 'NNS'), ('began', 'VBD'), ('much', 'RB'), ('later', 'RBR'), ('in', 'IN'), ('human', 'JJ'), ('history', 'NN'), ('.', '.'), ('societies', 'NNS'), ('which', 'WDT'), ('indulged', 'VBD'), ('in', 'IN'), ('anthropocentric', 'JJ'), ('view', 'NN'), ('of', 'IN'), ('biology', 'NN'), ('could', 'MD'), ('register', 'VB'), ('limited', 'JJ'), ('progress', 'NN'), ('in', 'IN'), ('biological', 'JJ'), ('knowledge', 'NN'), ('.', '.'), ('systematic', 'JJ'), ('and', 'CC'), ('monumental', 'JJ'), ('description', 'NN'), ('of', 'IN'), ('life', 'NN'), ('forms', 'NNS'), ('brought', 'VBN'), ('in', 'IN'), (',', ','), ('out', 'IN'), ('of', 'IN'), ('necessity', 'NN'), (',', ','), ('detailed', 'JJ'), ('systems', 'NNS'), ('of', 'IN'), ('identification', 'NN'), (',', ','), ('nomenclature', 'NN'), ('and', 'CC'), ('classification', 'NN'), ('.', '.'), ('the', 'DT'), ('biggest', 'JJS'), ('spin', 'NN'), ('off', 'IN'), ('of', 'IN'), ('such', 'JJ'), ('studies', 'NNS'), ('was', 'VBD'), ('the', 'DT'), ('recognition', 'NN'), ('of', 'IN'), ('the', 'DT'), ('sharing', 'NN'), ('of', 'IN'), ('similarities', 'NNS'), ('among', 'IN'), ('living', 'NN'), ('organisms', 'NNS'), ('both', 'DT'), ('horizontally', 'RB'), ('and', 'CC'), ('vertically', 'RB'), ('.', '.'), ('that', 'IN'), ('all', 'DT'), ('present', 'JJ'), ('day', 'NN'), ('living', 'NN'), ('organisms', 'NNS'), ('are', 'VBP'), ('related', 'VBN'), ('to', 'TO'), ('each', 'DT'), ('other', 'JJ'), ('and', 'CC'), ('also', 'RB'), ('to', 'TO'), ('all', 'DT'), ('organisms', 'NNS'), ('that', 'IN'), ('ever', 'RB'), ('lived', 'VBD'), ('on', 'IN'), ('this', 'DT'), ('earth', 'NN'), (',', ','), ('was', 'VBD'), ('a', 'DT'), ('revelation', 'NN'), ('which', 'WDT'), ('humbled', 'VBD'), ('man', 'NN'), ('and', 'CC'), ('led', 'VBD'), ('to', 'TO'), ('cultural', 'JJ'), ('movements', 'NNS'), ('for', 'IN'), ('conservation', 'NN'), ('of', 'IN'), ('biodiversity', 'NN'), ('.', '.'), ('in', 'IN'), ('the', 'DT'), ('following', 'JJ'), ('chapters', 'NNS'), ('of', 'IN'), ('this', 'DT'), ('unit', 'NN'), (',', ','), ('you', 'PRP'), ('will', 'MD'), ('get', 'VB'), ('a', 'DT'), ('description', 'NN'), (',', ','), ('including', 'VBG'), ('classification', 'NN'), (',', ','), ('of', 'IN'), ('animals', 'NNS'), ('and', 'CC'), ('plants', 'NNS'), ('from', 'IN'), ('a', 'DT'), ('taxonomist', 'NN'), ('’', 'NNP'), ('s', 'NN'), ('perspective', 'NN'), ('.', '.'), ('2019-2020', 'JJ')]\n",
            "{'NN': ['chapter', 'living', 'world', 'chapter', 'classification', 'chapter', 'plant', 'kingdom', 'chapter', 'kingdom', 'unit', 'diversity', 'living', 'world', 'biology', 'science', 'life', 'living', 'living', 'world', 'diversity', 'living', 'man', 'difference', 'matter', 'man', 'matter', 'wind', 'sea', 'fire', 'etc', 'feature', 'inanimate', 'sense', 'awe', 'fear', 'description', 'living', 'history', 'view', 'biology', 'progress', 'knowledge', 'description', 'life', 'necessity', 'identification', 'nomenclature', 'classification', 'spin', 'recognition', 'sharing', 'living', 'day', 'living', 'earth', 'revelation', 'man', 'conservation', 'biodiversity', 'unit', 'description', 'classification', 'taxonomist', 's', 'perspective'], 'CD': ['1', '2', '3', '4'], 'DT': ['the', 'the', 'the', 'the', 'an', 'the', 'some', 'the', 'some', 'the', 'a', 'all', 'the', 'the', 'the', 'the', 'the', 'both', 'all', 'each', 'all', 'this', 'a', 'the', 'this', 'a', 'a'], 'JJ': ['biological', 'animal', 'i', 'amazing', 'early', 'inanimate', 'early', 'inanimate', 'common', 'such', 'animate', 'human', 'human', 'anthropocentric', 'limited', 'biological', 'systematic', 'monumental', 'detailed', 'such', 'present', 'other', 'cultural', 'following', '2019-2020'], 'IN': ['in', 'of', 'of', 'between', 'of', 'among', 'of', 'of', 'of', 'that', 'of', 'in', 'in', 'of', 'in', 'of', 'in', 'out', 'of', 'of', 'off', 'of', 'of', 'of', 'among', 'that', 'that', 'on', 'for', 'of', 'in', 'of', 'of', 'from'], 'VBZ': ['is', 'comprises'], 'NNS': ['forms', 'processes', 'organisms', 'organisms', 'animals', 'plants', 'forms', 'objects', 'organisms', 'beings', 'societies', 'forms', 'systems', 'studies', 'similarities', 'organisms', 'organisms', 'organisms', 'movements', 'chapters', 'animals', 'plants'], 'CC': ['and', 'and', 'and', 'and', 'and', 'or', 'and', 'and', 'and', 'and', 'and', 'and'], '.': ['.', '.', '.', '.', '.', '.', '.', '.', '.', '.', '.', '.'], 'MD': ['could', 'could', 'will'], 'RB': ['easily', 'much', 'horizontally', 'vertically', 'also', 'ever'], 'VB': ['perceive', 'register', 'get'], 'VBG': ['living', 'including', 'including'], 'VBD': ['deified', 'was', 'evoked', 'began', 'indulged', 'was', 'lived', 'was', 'humbled', 'led'], '(': ['('], ',': [',', ',', ',', ',', ',', ',', ',', ',', ','], ')': [')'], 'PRP': ['they', 'you'], 'RBR': ['later'], 'WDT': ['which', 'which'], 'VBN': ['brought', 'related'], 'JJS': ['biggest'], 'VBP': ['are'], 'TO': ['to', 'to', 'to'], 'NNP': ['’']}\n"
          ],
          "name": "stdout"
        }
      ]
    }
  ]
}